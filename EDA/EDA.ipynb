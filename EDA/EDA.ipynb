{
 "cells": [
  {
   "cell_type": "code",
   "execution_count": 1,
   "metadata": {},
   "outputs": [],
   "source": [
    "import pandas as pd\n",
    "import numpy as np\n",
    "import gdown \n",
    "import seaborn as sns\n",
    "import matplotlib.pyplot as plt\n",
    "import scipy.sparse as sps"
   ]
  },
  {
   "attachments": {},
   "cell_type": "markdown",
   "metadata": {},
   "source": [
    "# Разведочный анализ данных \n",
    "## Описание данных\n",
    "\n",
    "**Данные состоят из 2 [файлов](https://drive.google.com/drive/folders/1Z8uIxxGSSsER22x4Uh546jXuE8NUIUNz?usp=sharing):**\n",
    "* *products.csv*  - товары с их харакретистиками\n",
    "* *transactions.csv*  - транзакции покупателей\n",
    "\n",
    "**products.csv** 49688 строк\n",
    "* *product_id* : int - уникальный идентификатор товара\n",
    "* *product_name* : str - название товара\n",
    "* *aisle_id* : int - уникальный идентификатор подкатегории\n",
    "* *department_id* : int - уникальный идентификатор категории\n",
    "* *aisle* : str - название подкатегории\n",
    "* *department* : str - название категории\n",
    "\n",
    "**transactions.csv** 26408073 строк\n",
    "* *order_id* : int - уникальный идентификатор транзакции\n",
    "* *user_id* : int - уникальный идентификатор покупателя\n",
    "* *order_number* : int - номер транзакции в истории покупок данного пользователя\n",
    "* *order_dow* : int - день недели транзакции\n",
    "* *order_hour_of_day* : int - час совершения транзакции\n",
    "* *days_since_prior_order* : float (1045204 None)- количество дней с совершения предыдущей транзакции данным пользователем\n",
    "* *product_id* : int - уникальный идентификатор товара\n",
    "* *add_to_cart_order* : float - номер под которым данный товар был добавлен в корзину\n",
    "* *reordered* : float - был ли товар \"перезаказан\"\n",
    "\n",
    "## План последующей работы:\n",
    "\n",
    "* Этап 1: Разведочный анализ данных (EDA);\n",
    "* Этап 2: Выбор классического метода ML, обучение, оценка (колаборативная фильтрация и PureSVD);\n",
    "* Этап 3: Применение нейросетевых подходов (DL), обучение модели, оценка;\n",
    "* Этап 4: Разработка веб-сервиса.\n"
   ]
  },
  {
   "attachments": {},
   "cell_type": "markdown",
   "metadata": {},
   "source": [
    "<b>Загрузка данных</b>"
   ]
  },
  {
   "cell_type": "code",
   "execution_count": 2,
   "metadata": {},
   "outputs": [],
   "source": [
    "def get_df_from_file(url: str, name_file: str):\n",
    "    gdown.download(url, name_file, quiet=False)\n",
    "    df = pd.read_csv(name_file)\n",
    "    return df"
   ]
  },
  {
   "cell_type": "code",
   "execution_count": 3,
   "metadata": {},
   "outputs": [
    {
     "name": "stderr",
     "output_type": "stream",
     "text": [
      "Downloading...\n",
      "From: https://drive.google.com/uc?export=download&id=1cXQdWRMbuMqcxWwwifP7tK6GuYWuSPd0\n",
      "To: c:\\code\\rec_sys\\hse_mlds_recsys_project\\EDA\\products.csv\n",
      "100%|██████████| 3.40M/3.40M [00:00<00:00, 5.12MB/s]\n"
     ]
    }
   ],
   "source": [
    "# Загрузка датасета с продуктами\n",
    "product_df = get_df_from_file(url='https://drive.google.com/uc?export=download&id=1cXQdWRMbuMqcxWwwifP7tK6GuYWuSPd0', \n",
    "                              name_file='products.csv')\n",
    "# product_df = pd.read_csv('products.csv')"
   ]
  },
  {
   "cell_type": "code",
   "execution_count": 4,
   "metadata": {},
   "outputs": [
    {
     "name": "stdout",
     "output_type": "stream",
     "text": [
      "<class 'pandas.core.frame.DataFrame'>\n",
      "RangeIndex: 49688 entries, 0 to 49687\n",
      "Data columns (total 6 columns):\n",
      " #   Column         Non-Null Count  Dtype \n",
      "---  ------         --------------  ----- \n",
      " 0   product_id     49688 non-null  int64 \n",
      " 1   product_name   49688 non-null  object\n",
      " 2   aisle_id       49688 non-null  int64 \n",
      " 3   department_id  49688 non-null  int64 \n",
      " 4   aisle          49688 non-null  object\n",
      " 5   department     49688 non-null  object\n",
      "dtypes: int64(3), object(3)\n",
      "memory usage: 2.3+ MB\n"
     ]
    }
   ],
   "source": [
    "product_df.info()"
   ]
  },
  {
   "cell_type": "code",
   "execution_count": 5,
   "metadata": {},
   "outputs": [
    {
     "data": {
      "text/html": [
       "<div>\n",
       "<style scoped>\n",
       "    .dataframe tbody tr th:only-of-type {\n",
       "        vertical-align: middle;\n",
       "    }\n",
       "\n",
       "    .dataframe tbody tr th {\n",
       "        vertical-align: top;\n",
       "    }\n",
       "\n",
       "    .dataframe thead th {\n",
       "        text-align: right;\n",
       "    }\n",
       "</style>\n",
       "<table border=\"1\" class=\"dataframe\">\n",
       "  <thead>\n",
       "    <tr style=\"text-align: right;\">\n",
       "      <th></th>\n",
       "      <th>count</th>\n",
       "      <th>unique</th>\n",
       "      <th>top</th>\n",
       "      <th>freq</th>\n",
       "      <th>mean</th>\n",
       "      <th>std</th>\n",
       "      <th>min</th>\n",
       "      <th>25%</th>\n",
       "      <th>50%</th>\n",
       "      <th>75%</th>\n",
       "      <th>max</th>\n",
       "    </tr>\n",
       "  </thead>\n",
       "  <tbody>\n",
       "    <tr>\n",
       "      <th>product_id</th>\n",
       "      <td>49688.0</td>\n",
       "      <td>NaN</td>\n",
       "      <td>NaN</td>\n",
       "      <td>NaN</td>\n",
       "      <td>24844.5</td>\n",
       "      <td>14343.834425</td>\n",
       "      <td>1.0</td>\n",
       "      <td>12422.75</td>\n",
       "      <td>24844.5</td>\n",
       "      <td>37266.25</td>\n",
       "      <td>49688.0</td>\n",
       "    </tr>\n",
       "    <tr>\n",
       "      <th>product_name</th>\n",
       "      <td>49688</td>\n",
       "      <td>49688</td>\n",
       "      <td>Chocolate Sandwich Cookies</td>\n",
       "      <td>1</td>\n",
       "      <td>NaN</td>\n",
       "      <td>NaN</td>\n",
       "      <td>NaN</td>\n",
       "      <td>NaN</td>\n",
       "      <td>NaN</td>\n",
       "      <td>NaN</td>\n",
       "      <td>NaN</td>\n",
       "    </tr>\n",
       "    <tr>\n",
       "      <th>aisle_id</th>\n",
       "      <td>49688.0</td>\n",
       "      <td>NaN</td>\n",
       "      <td>NaN</td>\n",
       "      <td>NaN</td>\n",
       "      <td>67.769582</td>\n",
       "      <td>38.316162</td>\n",
       "      <td>1.0</td>\n",
       "      <td>35.0</td>\n",
       "      <td>69.0</td>\n",
       "      <td>100.0</td>\n",
       "      <td>134.0</td>\n",
       "    </tr>\n",
       "    <tr>\n",
       "      <th>department_id</th>\n",
       "      <td>49688.0</td>\n",
       "      <td>NaN</td>\n",
       "      <td>NaN</td>\n",
       "      <td>NaN</td>\n",
       "      <td>11.728687</td>\n",
       "      <td>5.85041</td>\n",
       "      <td>1.0</td>\n",
       "      <td>7.0</td>\n",
       "      <td>13.0</td>\n",
       "      <td>17.0</td>\n",
       "      <td>21.0</td>\n",
       "    </tr>\n",
       "    <tr>\n",
       "      <th>aisle</th>\n",
       "      <td>49688</td>\n",
       "      <td>134</td>\n",
       "      <td>missing</td>\n",
       "      <td>1258</td>\n",
       "      <td>NaN</td>\n",
       "      <td>NaN</td>\n",
       "      <td>NaN</td>\n",
       "      <td>NaN</td>\n",
       "      <td>NaN</td>\n",
       "      <td>NaN</td>\n",
       "      <td>NaN</td>\n",
       "    </tr>\n",
       "    <tr>\n",
       "      <th>department</th>\n",
       "      <td>49688</td>\n",
       "      <td>21</td>\n",
       "      <td>personal care</td>\n",
       "      <td>6563</td>\n",
       "      <td>NaN</td>\n",
       "      <td>NaN</td>\n",
       "      <td>NaN</td>\n",
       "      <td>NaN</td>\n",
       "      <td>NaN</td>\n",
       "      <td>NaN</td>\n",
       "      <td>NaN</td>\n",
       "    </tr>\n",
       "  </tbody>\n",
       "</table>\n",
       "</div>"
      ],
      "text/plain": [
       "                 count unique                         top  freq       mean  \\\n",
       "product_id     49688.0    NaN                         NaN   NaN    24844.5   \n",
       "product_name     49688  49688  Chocolate Sandwich Cookies     1        NaN   \n",
       "aisle_id       49688.0    NaN                         NaN   NaN  67.769582   \n",
       "department_id  49688.0    NaN                         NaN   NaN  11.728687   \n",
       "aisle            49688    134                     missing  1258        NaN   \n",
       "department       49688     21               personal care  6563        NaN   \n",
       "\n",
       "                        std  min       25%      50%       75%      max  \n",
       "product_id     14343.834425  1.0  12422.75  24844.5  37266.25  49688.0  \n",
       "product_name            NaN  NaN       NaN      NaN       NaN      NaN  \n",
       "aisle_id          38.316162  1.0      35.0     69.0     100.0    134.0  \n",
       "department_id       5.85041  1.0       7.0     13.0      17.0     21.0  \n",
       "aisle                   NaN  NaN       NaN      NaN       NaN      NaN  \n",
       "department              NaN  NaN       NaN      NaN       NaN      NaN  "
      ]
     },
     "execution_count": 5,
     "metadata": {},
     "output_type": "execute_result"
    }
   ],
   "source": [
    "product_df.describe(include='all').transpose()"
   ]
  },
  {
   "cell_type": "code",
   "execution_count": 7,
   "metadata": {},
   "outputs": [
    {
     "name": "stderr",
     "output_type": "stream",
     "text": [
      "Downloading...\n",
      "From (uriginal): https://drive.google.com/uc?export=download&id=18s2x14ttYJ-wXjhCEFFtuSwLSOBP5hpC\n",
      "From (redirected): https://drive.google.com/uc?export=download&id=18s2x14ttYJ-wXjhCEFFtuSwLSOBP5hpC&confirm=t&uuid=4e2c07ea-9391-4f0a-ab7f-a38573447fcd\n",
      "To: c:\\code\\rec_sys\\hse_mlds_recsys_project\\EDA\\transactions.csv\n",
      "100%|██████████| 1.05G/1.05G [03:24<00:00, 5.16MB/s]\n"
     ]
    }
   ],
   "source": [
    "# Загрузка датасета с транзакциями\n",
    "transaction_df = get_df_from_file(url='https://drive.google.com/uc?export=download&id=18s2x14ttYJ-wXjhCEFFtuSwLSOBP5hpC', \n",
    "                              name_file='transactions.csv')"
   ]
  },
  {
   "cell_type": "code",
   "execution_count": 8,
   "metadata": {},
   "outputs": [
    {
     "name": "stdout",
     "output_type": "stream",
     "text": [
      "<class 'pandas.core.frame.DataFrame'>\n",
      "RangeIndex: 26408073 entries, 0 to 26408072\n",
      "Data columns (total 9 columns):\n",
      " #   Column                  Dtype  \n",
      "---  ------                  -----  \n",
      " 0   order_id                int64  \n",
      " 1   user_id                 int64  \n",
      " 2   order_number            int64  \n",
      " 3   order_dow               int64  \n",
      " 4   order_hour_of_day       int64  \n",
      " 5   days_since_prior_order  float64\n",
      " 6   product_id              int64  \n",
      " 7   add_to_cart_order       float64\n",
      " 8   reordered               float64\n",
      "dtypes: float64(3), int64(6)\n",
      "memory usage: 1.8 GB\n"
     ]
    }
   ],
   "source": [
    "transaction_df.info()"
   ]
  },
  {
   "cell_type": "code",
   "execution_count": 9,
   "metadata": {},
   "outputs": [
    {
     "name": "stdout",
     "output_type": "stream",
     "text": [
      "Всего 100000 уникальных пользователей\n"
     ]
    }
   ],
   "source": [
    "nuniq_user = transaction_df['user_id'].nunique()\n",
    "print(f\"\"\"Всего {nuniq_user} уникальных пользователей\"\"\")"
   ]
  },
  {
   "cell_type": "code",
   "execution_count": 10,
   "metadata": {},
   "outputs": [
    {
     "data": {
      "text/html": [
       "<div>\n",
       "<style scoped>\n",
       "    .dataframe tbody tr th:only-of-type {\n",
       "        vertical-align: middle;\n",
       "    }\n",
       "\n",
       "    .dataframe tbody tr th {\n",
       "        vertical-align: top;\n",
       "    }\n",
       "\n",
       "    .dataframe thead th {\n",
       "        text-align: right;\n",
       "    }\n",
       "</style>\n",
       "<table border=\"1\" class=\"dataframe\">\n",
       "  <thead>\n",
       "    <tr style=\"text-align: right;\">\n",
       "      <th></th>\n",
       "      <th>count</th>\n",
       "      <th>mean</th>\n",
       "      <th>std</th>\n",
       "      <th>min</th>\n",
       "      <th>25%</th>\n",
       "      <th>50%</th>\n",
       "      <th>75%</th>\n",
       "      <th>max</th>\n",
       "    </tr>\n",
       "  </thead>\n",
       "  <tbody>\n",
       "    <tr>\n",
       "      <th>order_id</th>\n",
       "      <td>26408073.0</td>\n",
       "      <td>1.709983e+06</td>\n",
       "      <td>987309.951899</td>\n",
       "      <td>3.0</td>\n",
       "      <td>855565.0</td>\n",
       "      <td>1709741.0</td>\n",
       "      <td>2564804.0</td>\n",
       "      <td>3421083.0</td>\n",
       "    </tr>\n",
       "    <tr>\n",
       "      <th>user_id</th>\n",
       "      <td>26408073.0</td>\n",
       "      <td>1.028864e+05</td>\n",
       "      <td>59458.790926</td>\n",
       "      <td>1.0</td>\n",
       "      <td>51309.0</td>\n",
       "      <td>102513.0</td>\n",
       "      <td>154297.0</td>\n",
       "      <td>206209.0</td>\n",
       "    </tr>\n",
       "    <tr>\n",
       "      <th>order_number</th>\n",
       "      <td>26408073.0</td>\n",
       "      <td>1.988861e+01</td>\n",
       "      <td>17.996277</td>\n",
       "      <td>1.0</td>\n",
       "      <td>7.0</td>\n",
       "      <td>14.0</td>\n",
       "      <td>27.0</td>\n",
       "      <td>99.0</td>\n",
       "    </tr>\n",
       "    <tr>\n",
       "      <th>order_dow</th>\n",
       "      <td>26408073.0</td>\n",
       "      <td>2.748206e+00</td>\n",
       "      <td>2.085387</td>\n",
       "      <td>0.0</td>\n",
       "      <td>1.0</td>\n",
       "      <td>3.0</td>\n",
       "      <td>5.0</td>\n",
       "      <td>6.0</td>\n",
       "    </tr>\n",
       "    <tr>\n",
       "      <th>order_hour_of_day</th>\n",
       "      <td>26408073.0</td>\n",
       "      <td>1.337082e+01</td>\n",
       "      <td>4.254838</td>\n",
       "      <td>0.0</td>\n",
       "      <td>10.0</td>\n",
       "      <td>13.0</td>\n",
       "      <td>16.0</td>\n",
       "      <td>23.0</td>\n",
       "    </tr>\n",
       "    <tr>\n",
       "      <th>days_since_prior_order</th>\n",
       "      <td>25362869.0</td>\n",
       "      <td>9.795438e+00</td>\n",
       "      <td>7.841291</td>\n",
       "      <td>0.0</td>\n",
       "      <td>4.0</td>\n",
       "      <td>7.0</td>\n",
       "      <td>13.0</td>\n",
       "      <td>30.0</td>\n",
       "    </tr>\n",
       "    <tr>\n",
       "      <th>product_id</th>\n",
       "      <td>26408073.0</td>\n",
       "      <td>2.557253e+04</td>\n",
       "      <td>14084.181062</td>\n",
       "      <td>1.0</td>\n",
       "      <td>13535.0</td>\n",
       "      <td>25211.0</td>\n",
       "      <td>37904.0</td>\n",
       "      <td>49688.0</td>\n",
       "    </tr>\n",
       "    <tr>\n",
       "      <th>add_to_cart_order</th>\n",
       "      <td>26408073.0</td>\n",
       "      <td>8.363790e+00</td>\n",
       "      <td>7.138547</td>\n",
       "      <td>1.0</td>\n",
       "      <td>3.0</td>\n",
       "      <td>6.0</td>\n",
       "      <td>11.0</td>\n",
       "      <td>145.0</td>\n",
       "    </tr>\n",
       "    <tr>\n",
       "      <th>reordered</th>\n",
       "      <td>26408073.0</td>\n",
       "      <td>6.418116e-01</td>\n",
       "      <td>0.479468</td>\n",
       "      <td>0.0</td>\n",
       "      <td>0.0</td>\n",
       "      <td>1.0</td>\n",
       "      <td>1.0</td>\n",
       "      <td>1.0</td>\n",
       "    </tr>\n",
       "  </tbody>\n",
       "</table>\n",
       "</div>"
      ],
      "text/plain": [
       "                             count          mean            std  min  \\\n",
       "order_id                26408073.0  1.709983e+06  987309.951899  3.0   \n",
       "user_id                 26408073.0  1.028864e+05   59458.790926  1.0   \n",
       "order_number            26408073.0  1.988861e+01      17.996277  1.0   \n",
       "order_dow               26408073.0  2.748206e+00       2.085387  0.0   \n",
       "order_hour_of_day       26408073.0  1.337082e+01       4.254838  0.0   \n",
       "days_since_prior_order  25362869.0  9.795438e+00       7.841291  0.0   \n",
       "product_id              26408073.0  2.557253e+04   14084.181062  1.0   \n",
       "add_to_cart_order       26408073.0  8.363790e+00       7.138547  1.0   \n",
       "reordered               26408073.0  6.418116e-01       0.479468  0.0   \n",
       "\n",
       "                             25%        50%        75%        max  \n",
       "order_id                855565.0  1709741.0  2564804.0  3421083.0  \n",
       "user_id                  51309.0   102513.0   154297.0   206209.0  \n",
       "order_number                 7.0       14.0       27.0       99.0  \n",
       "order_dow                    1.0        3.0        5.0        6.0  \n",
       "order_hour_of_day           10.0       13.0       16.0       23.0  \n",
       "days_since_prior_order       4.0        7.0       13.0       30.0  \n",
       "product_id               13535.0    25211.0    37904.0    49688.0  \n",
       "add_to_cart_order            3.0        6.0       11.0      145.0  \n",
       "reordered                    0.0        1.0        1.0        1.0  "
      ]
     },
     "execution_count": 10,
     "metadata": {},
     "output_type": "execute_result"
    }
   ],
   "source": [
    "transaction_df.describe(include='all').transpose()"
   ]
  },
  {
   "cell_type": "code",
   "execution_count": 11,
   "metadata": {},
   "outputs": [
    {
     "name": "stdout",
     "output_type": "stream",
     "text": [
      "В поле days_since_prior_order 1045204 пустых значений.\n",
      "Это 0.0396 от общего количества.\n"
     ]
    }
   ],
   "source": [
    "none_values = sum(transaction_df.days_since_prior_order.isna())\n",
    "all_values = len(transaction_df)\n",
    "print(f\"\"\"В поле days_since_prior_order {none_values} пустых значений.\n",
    "Это {round((none_values/all_values), 4)} от общего количества.\"\"\") "
   ]
  },
  {
   "cell_type": "code",
   "execution_count": 12,
   "metadata": {},
   "outputs": [
    {
     "data": {
      "text/plain": [
       "0"
      ]
     },
     "execution_count": 12,
     "metadata": {},
     "output_type": "execute_result"
    }
   ],
   "source": [
    "# Количество путсых значений для заказов с номером > 1\n",
    "first_order = sum(transaction_df[transaction_df['order_number'] != 1]['days_since_prior_order'].isna())\n",
    "first_order"
   ]
  },
  {
   "attachments": {},
   "cell_type": "markdown",
   "metadata": {},
   "source": [
    "В поле days_since_prior_order, где указано количество дней с предыдущей транзакции 1045204 None значений. </br>\n",
    "None значения только для первого заказа order_number == 1. Это связано с тем, что для первого заказа не может быть предыдущего. "
   ]
  },
  {
   "attachments": {},
   "cell_type": "markdown",
   "metadata": {},
   "source": [
    "<b>Популярные товары и категории</b>"
   ]
  },
  {
   "cell_type": "code",
   "execution_count": 13,
   "metadata": {},
   "outputs": [
    {
     "data": {
      "text/html": [
       "<div>\n",
       "<style scoped>\n",
       "    .dataframe tbody tr th:only-of-type {\n",
       "        vertical-align: middle;\n",
       "    }\n",
       "\n",
       "    .dataframe tbody tr th {\n",
       "        vertical-align: top;\n",
       "    }\n",
       "\n",
       "    .dataframe thead th {\n",
       "        text-align: right;\n",
       "    }\n",
       "</style>\n",
       "<table border=\"1\" class=\"dataframe\">\n",
       "  <thead>\n",
       "    <tr style=\"text-align: right;\">\n",
       "      <th></th>\n",
       "      <th>product_id</th>\n",
       "      <th>count</th>\n",
       "    </tr>\n",
       "  </thead>\n",
       "  <tbody>\n",
       "    <tr>\n",
       "      <th>0</th>\n",
       "      <td>24852</td>\n",
       "      <td>391170</td>\n",
       "    </tr>\n",
       "    <tr>\n",
       "      <th>1</th>\n",
       "      <td>13176</td>\n",
       "      <td>321553</td>\n",
       "    </tr>\n",
       "    <tr>\n",
       "      <th>2</th>\n",
       "      <td>21137</td>\n",
       "      <td>226279</td>\n",
       "    </tr>\n",
       "    <tr>\n",
       "      <th>3</th>\n",
       "      <td>21903</td>\n",
       "      <td>199961</td>\n",
       "    </tr>\n",
       "    <tr>\n",
       "      <th>4</th>\n",
       "      <td>47209</td>\n",
       "      <td>183702</td>\n",
       "    </tr>\n",
       "  </tbody>\n",
       "</table>\n",
       "</div>"
      ],
      "text/plain": [
       "   product_id   count\n",
       "0       24852  391170\n",
       "1       13176  321553\n",
       "2       21137  226279\n",
       "3       21903  199961\n",
       "4       47209  183702"
      ]
     },
     "execution_count": 13,
     "metadata": {},
     "output_type": "execute_result"
    }
   ],
   "source": [
    "# Количесвто вхождений продукта в заказ\n",
    "popular_products_df = pd.DataFrame(transaction_df['product_id'].value_counts())\n",
    "popular_products_df = popular_products_df.reset_index() \n",
    "popular_products_df.head()"
   ]
  },
  {
   "cell_type": "code",
   "execution_count": 14,
   "metadata": {},
   "outputs": [
    {
     "data": {
      "text/html": [
       "<div>\n",
       "<style scoped>\n",
       "    .dataframe tbody tr th:only-of-type {\n",
       "        vertical-align: middle;\n",
       "    }\n",
       "\n",
       "    .dataframe tbody tr th {\n",
       "        vertical-align: top;\n",
       "    }\n",
       "\n",
       "    .dataframe thead th {\n",
       "        text-align: right;\n",
       "    }\n",
       "</style>\n",
       "<table border=\"1\" class=\"dataframe\">\n",
       "  <thead>\n",
       "    <tr style=\"text-align: right;\">\n",
       "      <th></th>\n",
       "      <th>product_id</th>\n",
       "      <th>count</th>\n",
       "      <th>product_name</th>\n",
       "      <th>aisle_id</th>\n",
       "      <th>department_id</th>\n",
       "      <th>aisle</th>\n",
       "      <th>department</th>\n",
       "    </tr>\n",
       "  </thead>\n",
       "  <tbody>\n",
       "    <tr>\n",
       "      <th>0</th>\n",
       "      <td>24852</td>\n",
       "      <td>391170</td>\n",
       "      <td>Banana</td>\n",
       "      <td>24</td>\n",
       "      <td>4</td>\n",
       "      <td>fresh fruits</td>\n",
       "      <td>produce</td>\n",
       "    </tr>\n",
       "    <tr>\n",
       "      <th>1</th>\n",
       "      <td>13176</td>\n",
       "      <td>321553</td>\n",
       "      <td>Bag of Organic Bananas</td>\n",
       "      <td>24</td>\n",
       "      <td>4</td>\n",
       "      <td>fresh fruits</td>\n",
       "      <td>produce</td>\n",
       "    </tr>\n",
       "    <tr>\n",
       "      <th>2</th>\n",
       "      <td>21137</td>\n",
       "      <td>226279</td>\n",
       "      <td>Organic Strawberries</td>\n",
       "      <td>24</td>\n",
       "      <td>4</td>\n",
       "      <td>fresh fruits</td>\n",
       "      <td>produce</td>\n",
       "    </tr>\n",
       "    <tr>\n",
       "      <th>3</th>\n",
       "      <td>21903</td>\n",
       "      <td>199961</td>\n",
       "      <td>Organic Baby Spinach</td>\n",
       "      <td>123</td>\n",
       "      <td>4</td>\n",
       "      <td>packaged vegetables fruits</td>\n",
       "      <td>produce</td>\n",
       "    </tr>\n",
       "    <tr>\n",
       "      <th>4</th>\n",
       "      <td>47209</td>\n",
       "      <td>183702</td>\n",
       "      <td>Organic Hass Avocado</td>\n",
       "      <td>24</td>\n",
       "      <td>4</td>\n",
       "      <td>fresh fruits</td>\n",
       "      <td>produce</td>\n",
       "    </tr>\n",
       "    <tr>\n",
       "      <th>5</th>\n",
       "      <td>47766</td>\n",
       "      <td>141632</td>\n",
       "      <td>Organic Avocado</td>\n",
       "      <td>24</td>\n",
       "      <td>4</td>\n",
       "      <td>fresh fruits</td>\n",
       "      <td>produce</td>\n",
       "    </tr>\n",
       "    <tr>\n",
       "      <th>6</th>\n",
       "      <td>47626</td>\n",
       "      <td>122080</td>\n",
       "      <td>Large Lemon</td>\n",
       "      <td>24</td>\n",
       "      <td>4</td>\n",
       "      <td>fresh fruits</td>\n",
       "      <td>produce</td>\n",
       "    </tr>\n",
       "    <tr>\n",
       "      <th>7</th>\n",
       "      <td>27845</td>\n",
       "      <td>118954</td>\n",
       "      <td>Organic Whole Milk</td>\n",
       "      <td>84</td>\n",
       "      <td>16</td>\n",
       "      <td>milk</td>\n",
       "      <td>dairy eggs</td>\n",
       "    </tr>\n",
       "    <tr>\n",
       "      <th>8</th>\n",
       "      <td>27966</td>\n",
       "      <td>118073</td>\n",
       "      <td>Organic Raspberries</td>\n",
       "      <td>123</td>\n",
       "      <td>4</td>\n",
       "      <td>packaged vegetables fruits</td>\n",
       "      <td>produce</td>\n",
       "    </tr>\n",
       "    <tr>\n",
       "      <th>9</th>\n",
       "      <td>26209</td>\n",
       "      <td>115506</td>\n",
       "      <td>Limes</td>\n",
       "      <td>24</td>\n",
       "      <td>4</td>\n",
       "      <td>fresh fruits</td>\n",
       "      <td>produce</td>\n",
       "    </tr>\n",
       "  </tbody>\n",
       "</table>\n",
       "</div>"
      ],
      "text/plain": [
       "   product_id   count            product_name  aisle_id  department_id  \\\n",
       "0       24852  391170                  Banana        24              4   \n",
       "1       13176  321553  Bag of Organic Bananas        24              4   \n",
       "2       21137  226279    Organic Strawberries        24              4   \n",
       "3       21903  199961    Organic Baby Spinach       123              4   \n",
       "4       47209  183702    Organic Hass Avocado        24              4   \n",
       "5       47766  141632         Organic Avocado        24              4   \n",
       "6       47626  122080             Large Lemon        24              4   \n",
       "7       27845  118954      Organic Whole Milk        84             16   \n",
       "8       27966  118073     Organic Raspberries       123              4   \n",
       "9       26209  115506                   Limes        24              4   \n",
       "\n",
       "                        aisle  department  \n",
       "0                fresh fruits     produce  \n",
       "1                fresh fruits     produce  \n",
       "2                fresh fruits     produce  \n",
       "3  packaged vegetables fruits     produce  \n",
       "4                fresh fruits     produce  \n",
       "5                fresh fruits     produce  \n",
       "6                fresh fruits     produce  \n",
       "7                        milk  dairy eggs  \n",
       "8  packaged vegetables fruits     produce  \n",
       "9                fresh fruits     produce  "
      ]
     },
     "execution_count": 14,
     "metadata": {},
     "output_type": "execute_result"
    }
   ],
   "source": [
    "# Детализация по продукту\n",
    "detailed_popular_products_df = (\n",
    "    popular_products_df\n",
    "        .merge(product_df,\n",
    "               on='product_id',\n",
    "               how='left'))\n",
    "detailed_popular_products_df.head(10)"
   ]
  },
  {
   "cell_type": "code",
   "execution_count": 15,
   "metadata": {},
   "outputs": [
    {
     "data": {
      "text/html": [
       "<div>\n",
       "<style scoped>\n",
       "    .dataframe tbody tr th:only-of-type {\n",
       "        vertical-align: middle;\n",
       "    }\n",
       "\n",
       "    .dataframe tbody tr th {\n",
       "        vertical-align: top;\n",
       "    }\n",
       "\n",
       "    .dataframe thead th {\n",
       "        text-align: right;\n",
       "    }\n",
       "</style>\n",
       "<table border=\"1\" class=\"dataframe\">\n",
       "  <thead>\n",
       "    <tr style=\"text-align: right;\">\n",
       "      <th></th>\n",
       "      <th>department_id</th>\n",
       "      <th>department</th>\n",
       "      <th>count</th>\n",
       "    </tr>\n",
       "  </thead>\n",
       "  <tbody>\n",
       "    <tr>\n",
       "      <th>3</th>\n",
       "      <td>4</td>\n",
       "      <td>produce</td>\n",
       "      <td>7796052</td>\n",
       "    </tr>\n",
       "    <tr>\n",
       "      <th>15</th>\n",
       "      <td>16</td>\n",
       "      <td>dairy eggs</td>\n",
       "      <td>4474114</td>\n",
       "    </tr>\n",
       "    <tr>\n",
       "      <th>18</th>\n",
       "      <td>19</td>\n",
       "      <td>snacks</td>\n",
       "      <td>2371324</td>\n",
       "    </tr>\n",
       "    <tr>\n",
       "      <th>6</th>\n",
       "      <td>7</td>\n",
       "      <td>beverages</td>\n",
       "      <td>2195636</td>\n",
       "    </tr>\n",
       "    <tr>\n",
       "      <th>0</th>\n",
       "      <td>1</td>\n",
       "      <td>frozen</td>\n",
       "      <td>1770796</td>\n",
       "    </tr>\n",
       "    <tr>\n",
       "      <th>12</th>\n",
       "      <td>13</td>\n",
       "      <td>pantry</td>\n",
       "      <td>1498929</td>\n",
       "    </tr>\n",
       "    <tr>\n",
       "      <th>2</th>\n",
       "      <td>3</td>\n",
       "      <td>bakery</td>\n",
       "      <td>960964</td>\n",
       "    </tr>\n",
       "    <tr>\n",
       "      <th>19</th>\n",
       "      <td>20</td>\n",
       "      <td>deli</td>\n",
       "      <td>853392</td>\n",
       "    </tr>\n",
       "    <tr>\n",
       "      <th>14</th>\n",
       "      <td>15</td>\n",
       "      <td>canned goods</td>\n",
       "      <td>842017</td>\n",
       "    </tr>\n",
       "    <tr>\n",
       "      <th>8</th>\n",
       "      <td>9</td>\n",
       "      <td>dry goods pasta</td>\n",
       "      <td>685426</td>\n",
       "    </tr>\n",
       "    <tr>\n",
       "      <th>16</th>\n",
       "      <td>17</td>\n",
       "      <td>household</td>\n",
       "      <td>578706</td>\n",
       "    </tr>\n",
       "    <tr>\n",
       "      <th>13</th>\n",
       "      <td>14</td>\n",
       "      <td>breakfast</td>\n",
       "      <td>575289</td>\n",
       "    </tr>\n",
       "    <tr>\n",
       "      <th>11</th>\n",
       "      <td>12</td>\n",
       "      <td>meat seafood</td>\n",
       "      <td>567938</td>\n",
       "    </tr>\n",
       "    <tr>\n",
       "      <th>17</th>\n",
       "      <td>18</td>\n",
       "      <td>babies</td>\n",
       "      <td>365423</td>\n",
       "    </tr>\n",
       "    <tr>\n",
       "      <th>10</th>\n",
       "      <td>11</td>\n",
       "      <td>personal care</td>\n",
       "      <td>352634</td>\n",
       "    </tr>\n",
       "    <tr>\n",
       "      <th>5</th>\n",
       "      <td>6</td>\n",
       "      <td>international</td>\n",
       "      <td>214351</td>\n",
       "    </tr>\n",
       "    <tr>\n",
       "      <th>4</th>\n",
       "      <td>5</td>\n",
       "      <td>alcohol</td>\n",
       "      <td>117616</td>\n",
       "    </tr>\n",
       "    <tr>\n",
       "      <th>7</th>\n",
       "      <td>8</td>\n",
       "      <td>pets</td>\n",
       "      <td>77808</td>\n",
       "    </tr>\n",
       "    <tr>\n",
       "      <th>20</th>\n",
       "      <td>21</td>\n",
       "      <td>missing</td>\n",
       "      <td>51481</td>\n",
       "    </tr>\n",
       "    <tr>\n",
       "      <th>9</th>\n",
       "      <td>10</td>\n",
       "      <td>bulk</td>\n",
       "      <td>29438</td>\n",
       "    </tr>\n",
       "    <tr>\n",
       "      <th>1</th>\n",
       "      <td>2</td>\n",
       "      <td>other</td>\n",
       "      <td>28739</td>\n",
       "    </tr>\n",
       "  </tbody>\n",
       "</table>\n",
       "</div>"
      ],
      "text/plain": [
       "    department_id       department    count\n",
       "3               4          produce  7796052\n",
       "15             16       dairy eggs  4474114\n",
       "18             19           snacks  2371324\n",
       "6               7        beverages  2195636\n",
       "0               1           frozen  1770796\n",
       "12             13           pantry  1498929\n",
       "2               3           bakery   960964\n",
       "19             20             deli   853392\n",
       "14             15     canned goods   842017\n",
       "8               9  dry goods pasta   685426\n",
       "16             17        household   578706\n",
       "13             14        breakfast   575289\n",
       "11             12     meat seafood   567938\n",
       "17             18           babies   365423\n",
       "10             11    personal care   352634\n",
       "5               6    international   214351\n",
       "4               5          alcohol   117616\n",
       "7               8             pets    77808\n",
       "20             21          missing    51481\n",
       "9              10             bulk    29438\n",
       "1               2            other    28739"
      ]
     },
     "execution_count": 15,
     "metadata": {},
     "output_type": "execute_result"
    }
   ],
   "source": [
    "# Популярные категории\n",
    "top_department = (\n",
    "    detailed_popular_products_df\n",
    "        .groupby(['department_id', 'department'], as_index=False)\n",
    "        ['count'].sum()\n",
    "        .sort_values(by='count', ascending=False)\n",
    "\n",
    ")\n",
    "top_department"
   ]
  },
  {
   "cell_type": "code",
   "execution_count": 16,
   "metadata": {},
   "outputs": [
    {
     "data": {
      "image/png": "[encoded data removed]",
      "text/plain": [
       "<Figure size 1000x500 with 1 Axes>"
      ]
     },
     "metadata": {},
     "output_type": "display_data"
    }
   ],
   "source": [
    "plt.figure(figsize=(10, 5))\n",
    "ax = sns.barplot(data=top_department, y='department', x='count')\n",
    "plt.title('Популярность категорий')\n",
    "plt.grid()\n",
    "plt.show()"
   ]
  },
  {
   "cell_type": "code",
   "execution_count": 17,
   "metadata": {},
   "outputs": [
    {
     "data": {
      "text/html": [
       "<div>\n",
       "<style scoped>\n",
       "    .dataframe tbody tr th:only-of-type {\n",
       "        vertical-align: middle;\n",
       "    }\n",
       "\n",
       "    .dataframe tbody tr th {\n",
       "        vertical-align: top;\n",
       "    }\n",
       "\n",
       "    .dataframe thead th {\n",
       "        text-align: right;\n",
       "    }\n",
       "</style>\n",
       "<table border=\"1\" class=\"dataframe\">\n",
       "  <thead>\n",
       "    <tr style=\"text-align: right;\">\n",
       "      <th></th>\n",
       "      <th>aisle_id</th>\n",
       "      <th>aisle</th>\n",
       "      <th>count</th>\n",
       "    </tr>\n",
       "  </thead>\n",
       "  <tbody>\n",
       "    <tr>\n",
       "      <th>23</th>\n",
       "      <td>24</td>\n",
       "      <td>fresh fruits</td>\n",
       "      <td>3038128</td>\n",
       "    </tr>\n",
       "    <tr>\n",
       "      <th>82</th>\n",
       "      <td>83</td>\n",
       "      <td>fresh vegetables</td>\n",
       "      <td>2781317</td>\n",
       "    </tr>\n",
       "    <tr>\n",
       "      <th>122</th>\n",
       "      <td>123</td>\n",
       "      <td>packaged vegetables fruits</td>\n",
       "      <td>1447548</td>\n",
       "    </tr>\n",
       "    <tr>\n",
       "      <th>119</th>\n",
       "      <td>120</td>\n",
       "      <td>yogurt</td>\n",
       "      <td>1209943</td>\n",
       "    </tr>\n",
       "    <tr>\n",
       "      <th>20</th>\n",
       "      <td>21</td>\n",
       "      <td>packaged cheese</td>\n",
       "      <td>796375</td>\n",
       "    </tr>\n",
       "    <tr>\n",
       "      <th>83</th>\n",
       "      <td>84</td>\n",
       "      <td>milk</td>\n",
       "      <td>752932</td>\n",
       "    </tr>\n",
       "    <tr>\n",
       "      <th>114</th>\n",
       "      <td>115</td>\n",
       "      <td>water seltzer sparkling water</td>\n",
       "      <td>690691</td>\n",
       "    </tr>\n",
       "    <tr>\n",
       "      <th>106</th>\n",
       "      <td>107</td>\n",
       "      <td>chips pretzels</td>\n",
       "      <td>584428</td>\n",
       "    </tr>\n",
       "    <tr>\n",
       "      <th>90</th>\n",
       "      <td>91</td>\n",
       "      <td>soy lactosefree</td>\n",
       "      <td>527901</td>\n",
       "    </tr>\n",
       "    <tr>\n",
       "      <th>111</th>\n",
       "      <td>112</td>\n",
       "      <td>bread</td>\n",
       "      <td>479256</td>\n",
       "    </tr>\n",
       "  </tbody>\n",
       "</table>\n",
       "</div>"
      ],
      "text/plain": [
       "     aisle_id                          aisle    count\n",
       "23         24                   fresh fruits  3038128\n",
       "82         83               fresh vegetables  2781317\n",
       "122       123     packaged vegetables fruits  1447548\n",
       "119       120                         yogurt  1209943\n",
       "20         21                packaged cheese   796375\n",
       "83         84                           milk   752932\n",
       "114       115  water seltzer sparkling water   690691\n",
       "106       107                 chips pretzels   584428\n",
       "90         91                soy lactosefree   527901\n",
       "111       112                          bread   479256"
      ]
     },
     "execution_count": 17,
     "metadata": {},
     "output_type": "execute_result"
    }
   ],
   "source": [
    "# Популярные категории\n",
    "top_aisle = (\n",
    "    detailed_popular_products_df\n",
    "        .groupby(['aisle_id', 'aisle'], as_index=False)\n",
    "        ['count'].sum()\n",
    "        .sort_values(by='count', ascending=False)\n",
    "\n",
    ")\n",
    "top_aisle.head(10)"
   ]
  },
  {
   "cell_type": "code",
   "execution_count": 18,
   "metadata": {},
   "outputs": [
    {
     "data": {
      "image/png": "[encoded data removed]",
      "text/plain": [
       "<Figure size 1000x500 with 1 Axes>"
      ]
     },
     "metadata": {},
     "output_type": "display_data"
    }
   ],
   "source": [
    "plt.figure(figsize=(10, 5))\n",
    "ax = sns.barplot(data=top_aisle.head(20), y='aisle', x='count')\n",
    "# ax.tick_params(axis='x', rotation=45)\n",
    "plt.title('ТОП 20 подкатегорий')\n",
    "plt.grid()\n",
    "# plt.xticks(rotation=-45)\n",
    "plt.show()"
   ]
  },
  {
   "cell_type": "code",
   "execution_count": 19,
   "metadata": {},
   "outputs": [
    {
     "data": {
      "image/png": "[encoded data removed]",
      "text/plain": [
       "<Figure size 1000x500 with 1 Axes>"
      ]
     },
     "metadata": {},
     "output_type": "display_data"
    }
   ],
   "source": [
    "plt.figure(figsize=(10, 5))\n",
    "sns.histplot(data = transaction_df.groupby(['user_id'])['order_number'].max(),\n",
    "             bins=40)\n",
    "plt.title('Распределение количества закзаов клиентов')\n",
    "plt.grid()\n",
    "plt.show()"
   ]
  },
  {
   "cell_type": "code",
   "execution_count": 20,
   "metadata": {},
   "outputs": [],
   "source": [
    "# Количество продукто в каждом заказе клиента \n",
    "products_on_order = (\n",
    "    transaction_df\n",
    "        .groupby(['user_id', 'order_number'], as_index=False)['add_to_cart_order']\n",
    "        .max())"
   ]
  },
  {
   "cell_type": "code",
   "execution_count": 21,
   "metadata": {},
   "outputs": [
    {
     "data": {
      "image/png": "[encoded data removed]",
      "text/plain": [
       "<Figure size 1000x500 with 1 Axes>"
      ]
     },
     "metadata": {},
     "output_type": "display_data"
    }
   ],
   "source": [
    "plt.figure(figsize=(10, 5))\n",
    "sns.histplot(data = products_on_order['add_to_cart_order'],\n",
    "             bins=30)\n",
    "plt.title('Распределение количества продуктов в заказе клиентов')\n",
    "plt.axvline(x=10, ymin=0, ymax=1, c='r')\n",
    "plt.xticks([i for i in range(0, 141, 10)])\n",
    "plt.grid()\n",
    "plt.show()"
   ]
  },
  {
   "cell_type": "code",
   "execution_count": 22,
   "metadata": {},
   "outputs": [],
   "source": [
    "# Среднее количество продуктов в заказе клиента\n",
    "avg_count_products_on_client_order = (\n",
    "        products_on_order\n",
    "                .groupby(['user_id'], as_index=False)['add_to_cart_order']\n",
    "                .mean())"
   ]
  },
  {
   "cell_type": "code",
   "execution_count": 23,
   "metadata": {},
   "outputs": [
    {
     "data": {
      "image/png": "[encoded data removed]",
      "text/plain": [
       "<Figure size 1000x500 with 1 Axes>"
      ]
     },
     "metadata": {},
     "output_type": "display_data"
    }
   ],
   "source": [
    "plt.figure(figsize=(10, 5))\n",
    "sns.histplot(data = avg_count_products_on_client_order['add_to_cart_order'],\n",
    "             bins=25)\n",
    "plt.title('Распределение среднего количества продуктов в заказе клиента')\n",
    "plt.axvline(x=10, ymin=0, ymax=1, c='r')\n",
    "plt.xticks([i for i in range(0, 141, 10)])\n",
    "plt.grid()\n",
    "plt.show()"
   ]
  },
  {
   "attachments": {},
   "cell_type": "markdown",
   "metadata": {},
   "source": [
    "Из распределений количества продуктов видно, что модальное количество продуктов в заказе 9-10 единиц продукции.</br>\n",
    "Следовательно, для данного магазина целесообразно представлять персонализированную рекомендацию в виде предложения 10 товаров. "
   ]
  },
  {
   "attachments": {},
   "cell_type": "markdown",
   "metadata": {},
   "source": [
    "<b>Подготовка данных</b>"
   ]
  },
  {
   "cell_type": "code",
   "execution_count": 24,
   "metadata": {},
   "outputs": [
    {
     "name": "stdout",
     "output_type": "stream",
     "text": [
      "Минимальное число заказов на одного клиента в обучающей выборке = 9\n"
     ]
    }
   ],
   "source": [
    "# Минимальное число заказов для клиента\n",
    "min_orders = min(transaction_df.groupby(['user_id'])['order_number'].nunique())\n",
    "print(f'Минимальное число заказов на одного клиента в обучающей выборке = {min_orders}')"
   ]
  },
  {
   "attachments": {},
   "cell_type": "markdown",
   "metadata": {},
   "source": [
    "Разделение данных на train и test так, чтобы в test попали последние заказы клиентов. "
   ]
  },
  {
   "cell_type": "code",
   "execution_count": 25,
   "metadata": {},
   "outputs": [],
   "source": [
    "def train_test_split(transaction_df: pd.DataFrame):\n",
    "    # Перечень заказов пользователей, которые попадут в test\n",
    "    test_orders_df = transaction_df.groupby(['user_id'], as_index=False)['order_number'].max()\n",
    "    # Сохранение исходных индексов\n",
    "    transaction_df = transaction_df.reset_index()\n",
    "    test_transaction_df = transaction_df.merge(test_orders_df, on=['user_id', 'order_number'], how='inner')\n",
    "    # Исключаем транзакции, которые попали в test\n",
    "    train_transaction_df = transaction_df[~transaction_df['index'].isin(test_transaction_df['index'])]\n",
    "    # Удаление полей с значением исходных индексов\n",
    "    train_transaction_df = train_transaction_df.drop(columns='index')\n",
    "    test_transaction_df = test_transaction_df.drop(columns='index')\n",
    "\n",
    "    return train_transaction_df, test_transaction_df"
   ]
  },
  {
   "cell_type": "code",
   "execution_count": 26,
   "metadata": {},
   "outputs": [],
   "source": [
    "# Разделение данных \n",
    "train_transaction_df, test_transacrion_df = train_test_split(transaction_df=transaction_df)\n",
    "# Проверка размерноестей\n",
    "assert len(train_transaction_df) + len(test_transacrion_df) == len(transaction_df)"
   ]
  },
  {
   "cell_type": "code",
   "execution_count": 28,
   "metadata": {},
   "outputs": [],
   "source": [
    "# Сохранение данных\n",
    "test_transacrion_df.to_csv('test_transacrion_df.csv')"
   ]
  },
  {
   "attachments": {},
   "cell_type": "markdown",
   "metadata": {},
   "source": [
    "Расчет рейтинга \n",
    "r - доля вхождений единиц товара во все заказа = количество кхождений в заказ товара / количество заказов "
   ]
  },
  {
   "cell_type": "code",
   "execution_count": 27,
   "metadata": {},
   "outputs": [],
   "source": [
    "# Расчет количества вхождений продуктов в заказ и количество заказов\n",
    "count_product_ordered = (\n",
    "    train_transaction_df.groupby(['user_id', 'product_id'], as_index=False)\n",
    "        ['reordered'].count())\n",
    "count_order_by_user = (\n",
    "    train_transaction_df.groupby(['user_id'], as_index=False)\n",
    "    ['order_number'].max())"
   ]
  },
  {
   "cell_type": "code",
   "execution_count": 29,
   "metadata": {},
   "outputs": [],
   "source": [
    "# Расчет рейтинга\n",
    "rating_df = count_product_ordered.merge(count_order_by_user, on='user_id', how='left')\n",
    "rating_df['rating'] = rating_df['reordered']/rating_df['order_number']\n",
    "rating_df = rating_df.drop(columns=['reordered', 'order_number'])\n",
    "# Сокращение объема данных\n",
    "rating_df['user_id'] = pd.to_numeric(rating_df['user_id'], downcast='integer')\n",
    "rating_df['product_id'] = pd.to_numeric(rating_df['product_id'], downcast='integer')\n",
    "# Сокращение объема данных\n",
    "rating_df['rating'] = pd.to_numeric(rating_df['rating'], downcast='float')"
   ]
  },
  {
   "cell_type": "code",
   "execution_count": 30,
   "metadata": {},
   "outputs": [
    {
     "data": {
      "text/html": [
       "<div>\n",
       "<style scoped>\n",
       "    .dataframe tbody tr th:only-of-type {\n",
       "        vertical-align: middle;\n",
       "    }\n",
       "\n",
       "    .dataframe tbody tr th {\n",
       "        vertical-align: top;\n",
       "    }\n",
       "\n",
       "    .dataframe thead th {\n",
       "        text-align: right;\n",
       "    }\n",
       "</style>\n",
       "<table border=\"1\" class=\"dataframe\">\n",
       "  <thead>\n",
       "    <tr style=\"text-align: right;\">\n",
       "      <th></th>\n",
       "      <th>user_id</th>\n",
       "      <th>product_id</th>\n",
       "      <th>rating</th>\n",
       "    </tr>\n",
       "  </thead>\n",
       "  <tbody>\n",
       "    <tr>\n",
       "      <th>0</th>\n",
       "      <td>1</td>\n",
       "      <td>196</td>\n",
       "      <td>1.000000</td>\n",
       "    </tr>\n",
       "    <tr>\n",
       "      <th>1</th>\n",
       "      <td>1</td>\n",
       "      <td>10258</td>\n",
       "      <td>0.888889</td>\n",
       "    </tr>\n",
       "    <tr>\n",
       "      <th>2</th>\n",
       "      <td>1</td>\n",
       "      <td>10326</td>\n",
       "      <td>0.111111</td>\n",
       "    </tr>\n",
       "    <tr>\n",
       "      <th>3</th>\n",
       "      <td>1</td>\n",
       "      <td>12427</td>\n",
       "      <td>1.000000</td>\n",
       "    </tr>\n",
       "    <tr>\n",
       "      <th>4</th>\n",
       "      <td>1</td>\n",
       "      <td>13032</td>\n",
       "      <td>0.222222</td>\n",
       "    </tr>\n",
       "    <tr>\n",
       "      <th>5</th>\n",
       "      <td>1</td>\n",
       "      <td>13176</td>\n",
       "      <td>0.222222</td>\n",
       "    </tr>\n",
       "    <tr>\n",
       "      <th>6</th>\n",
       "      <td>1</td>\n",
       "      <td>14084</td>\n",
       "      <td>0.111111</td>\n",
       "    </tr>\n",
       "    <tr>\n",
       "      <th>7</th>\n",
       "      <td>1</td>\n",
       "      <td>17122</td>\n",
       "      <td>0.111111</td>\n",
       "    </tr>\n",
       "    <tr>\n",
       "      <th>8</th>\n",
       "      <td>1</td>\n",
       "      <td>25133</td>\n",
       "      <td>0.777778</td>\n",
       "    </tr>\n",
       "    <tr>\n",
       "      <th>9</th>\n",
       "      <td>1</td>\n",
       "      <td>26088</td>\n",
       "      <td>0.222222</td>\n",
       "    </tr>\n",
       "    <tr>\n",
       "      <th>10</th>\n",
       "      <td>1</td>\n",
       "      <td>26405</td>\n",
       "      <td>0.222222</td>\n",
       "    </tr>\n",
       "    <tr>\n",
       "      <th>11</th>\n",
       "      <td>1</td>\n",
       "      <td>30450</td>\n",
       "      <td>0.111111</td>\n",
       "    </tr>\n",
       "    <tr>\n",
       "      <th>12</th>\n",
       "      <td>1</td>\n",
       "      <td>41787</td>\n",
       "      <td>0.111111</td>\n",
       "    </tr>\n",
       "    <tr>\n",
       "      <th>13</th>\n",
       "      <td>1</td>\n",
       "      <td>46149</td>\n",
       "      <td>0.222222</td>\n",
       "    </tr>\n",
       "    <tr>\n",
       "      <th>14</th>\n",
       "      <td>1</td>\n",
       "      <td>49235</td>\n",
       "      <td>0.222222</td>\n",
       "    </tr>\n",
       "  </tbody>\n",
       "</table>\n",
       "</div>"
      ],
      "text/plain": [
       "    user_id  product_id    rating\n",
       "0         1         196  1.000000\n",
       "1         1       10258  0.888889\n",
       "2         1       10326  0.111111\n",
       "3         1       12427  1.000000\n",
       "4         1       13032  0.222222\n",
       "5         1       13176  0.222222\n",
       "6         1       14084  0.111111\n",
       "7         1       17122  0.111111\n",
       "8         1       25133  0.777778\n",
       "9         1       26088  0.222222\n",
       "10        1       26405  0.222222\n",
       "11        1       30450  0.111111\n",
       "12        1       41787  0.111111\n",
       "13        1       46149  0.222222\n",
       "14        1       49235  0.222222"
      ]
     },
     "execution_count": 30,
     "metadata": {},
     "output_type": "execute_result"
    }
   ],
   "source": [
    "rating_df[rating_df['user_id'] == 1]"
   ]
  },
  {
   "attachments": {},
   "cell_type": "markdown",
   "metadata": {},
   "source": [
    "## Формирование матриц "
   ]
  },
  {
   "cell_type": "code",
   "execution_count": 31,
   "metadata": {},
   "outputs": [],
   "source": [
    "def make_sparse(dataset: pd.DataFrame) -> sps.csr_matrix:\n",
    "    shape =  len(dataset[\"user_id\"]), len(dataset[\"product_id\"])\n",
    "    values = dataset[\"rating\"].to_numpy()\n",
    "    return sps.csr_matrix(\n",
    "        (values, (dataset[\"user_id\"].to_numpy(), dataset[\"product_id\"].to_numpy())), shape=shape)"
   ]
  },
  {
   "cell_type": "code",
   "execution_count": 34,
   "metadata": {},
   "outputs": [],
   "source": [
    "rating_matrix = make_sparse(dataset=rating_df)"
   ]
  },
  {
   "cell_type": "code",
   "execution_count": 35,
   "metadata": {},
   "outputs": [
    {
     "name": "stdout",
     "output_type": "stream",
     "text": [
      "  (0, 196)\t1.0\n",
      "  (0, 10258)\t0.8888889\n",
      "  (0, 10326)\t0.11111111\n",
      "  (0, 12427)\t1.0\n",
      "  (0, 13032)\t0.22222222\n",
      "  (0, 13176)\t0.22222222\n",
      "  (0, 14084)\t0.11111111\n",
      "  (0, 17122)\t0.11111111\n",
      "  (0, 25133)\t0.7777778\n",
      "  (0, 26088)\t0.22222222\n",
      "  (0, 26405)\t0.22222222\n",
      "  (0, 30450)\t0.11111111\n",
      "  (0, 41787)\t0.11111111\n",
      "  (0, 46149)\t0.22222222\n",
      "  (0, 49235)\t0.22222222\n"
     ]
    }
   ],
   "source": [
    "print(rating_matrix[1])"
   ]
  },
  {
   "cell_type": "code",
   "execution_count": 36,
   "metadata": {},
   "outputs": [],
   "source": [
    "# Сохранение матрицы\n",
    "sps.save_npz('rating_matrix.npz', rating_matrix)"
   ]
  }
 ],
 "metadata": {
  "kernelspec": {
   "display_name": "Python 3 (ipykernel)",
   "language": "python",
   "name": "python3"
  },
  "language_info": {
   "codemirror_mode": {
    "name": "ipython",
    "version": 3
   },
   "file_extension": ".py",
   "mimetype": "text/x-python",
   "name": "python",
   "nbconvert_exporter": "python",
   "pygments_lexer": "ipython3",
   "version": "3.10.13"
  }
 },
 "nbformat": 4,
 "nbformat_minor": 4
}

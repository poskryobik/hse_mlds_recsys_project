{
 "cells": [
  {
   "attachments": {},
   "cell_type": "markdown",
   "metadata": {},
   "source": [
    "# Обучение модели"
   ]
  },
  {
   "cell_type": "code",
   "execution_count": 1,
   "metadata": {},
   "outputs": [],
   "source": [
    "import pandas as pd\n",
    "import numpy as np\n",
    "import gdown \n",
    "import seaborn as sns\n",
    "import matplotlib.pyplot as plt\n",
    "import scipy.sparse as sps\n",
    "import pickle\n",
    "from tqdm import tqdm\n",
    "from joblib import Parallel, delayed\n",
    "from scipy.sparse import hstack, vstack "
   ]
  },
  {
   "attachments": {},
   "cell_type": "markdown",
   "metadata": {},
   "source": [
    "## Загрузка данных"
   ]
  },
  {
   "cell_type": "code",
   "execution_count": 2,
   "metadata": {},
   "outputs": [
    {
     "name": "stderr",
     "output_type": "stream",
     "text": [
      "Downloading...\n",
      "From: https://drive.google.com/uc?export=download&id=1D2WB0E7FEHrYHpiXMYezo_Gx8UFGg0_H\n",
      "To: c:\\code\\rec_sys\\hse_mlds_recsys_project\\ML\\rating_matrix.npz\n",
      "100%|██████████| 19.5M/19.5M [00:02<00:00, 9.63MB/s]\n"
     ]
    }
   ],
   "source": [
    "# Загрузка матрицы с рейтингами\n",
    "gdown.download(url=\"https://drive.google.com/uc?export=download&id=1D2WB0E7FEHrYHpiXMYezo_Gx8UFGg0_H\",  \n",
    "               output=\"rating_matrix.npz\",\n",
    "               quiet=False)\n",
    "# Импорт матрицы\n",
    "rating_matrix = sps.load_npz(\"rating_matrix.npz\")"
   ]
  },
  {
   "cell_type": "code",
   "execution_count": 3,
   "metadata": {},
   "outputs": [
    {
     "name": "stderr",
     "output_type": "stream",
     "text": [
      "Downloading...\n",
      "From: https://drive.google.com/uc?export=download&id=1Ud6jFto6e7FW5y0LxxwX8afpmTrvA0u-\n",
      "To: c:\\code\\rec_sys\\hse_mlds_recsys_project\\ML\\test_transacrion_df.csv\n",
      "100%|██████████| 52.4M/52.4M [00:05<00:00, 9.69MB/s]\n"
     ]
    }
   ],
   "source": [
    "# Загрузка тестовых данных\n",
    "gdown.download(url=\"https://drive.google.com/uc?export=download&id=1Ud6jFto6e7FW5y0LxxwX8afpmTrvA0u-\",  \n",
    "               output=\"test_transacrion_df.csv\",\n",
    "               quiet=False)\n",
    "# Загрузка датафрейма с тестовыми данными\n",
    "test_df = pd.read_csv(\"test_transacrion_df.csv\", index_col=0)"
   ]
  },
  {
   "cell_type": "code",
   "execution_count": 4,
   "metadata": {},
   "outputs": [
    {
     "name": "stderr",
     "output_type": "stream",
     "text": [
      "Downloading...\n",
      "From: https://drive.google.com/uc?export=download&id=1eodl9OlaYy3NTu9TpbtPLHNurXxeHlhh\n",
      "To: c:\\code\\rec_sys\\hse_mlds_recsys_project\\ML\\encoder.pkl\n",
      "100%|██████████| 800k/800k [00:00<00:00, 2.98MB/s]\n"
     ]
    }
   ],
   "source": [
    "# Загрузка кодировщика user_id\n",
    "gdown.download(url=\"https://drive.google.com/uc?export=download&id=1eodl9OlaYy3NTu9TpbtPLHNurXxeHlhh\",  \n",
    "               output=\"encoder.pkl\",\n",
    "               quiet=False)\n",
    "# Загрузка кодировщика\n",
    "with open(\"encoder.pkl\", \"rb\") as f:\n",
    "    encoder = pickle.load(f)"
   ]
  },
  {
   "attachments": {},
   "cell_type": "markdown",
   "metadata": {},
   "source": [
    "# Метрика качества"
   ]
  },
  {
   "cell_type": "code",
   "execution_count": 5,
   "metadata": {},
   "outputs": [],
   "source": [
    "def rel(r, p):\n",
    "    return list(pd.Series(p).isin(r))\n",
    "\n",
    "def mapk(relevant, predicted, k: int = 10):\n",
    "    N = len(predicted)\n",
    "    ru = np.array(list(map(rel, relevant, predicted))) # маска релевантных треков каждого польз-ля (k, N) \n",
    "    p_at_k = np.array([np.mean(ru[:,:i], axis=1) for i in range(1, k+1)]).T # Prescision at i для каждого user i = 1...k (N, k)\n",
    "    nu = np.array(list(map(len, relevant))) # кол-во релевантных товаров каждого пользователя (N, ) \n",
    "    min_nu_k = 1/np.where(nu > k, k, nu) # min(k, nu)^(-1) для каждого user (N, )\n",
    "    AP_at_k = np.sum(min_nu_k.reshape(N,1) * p_at_k * ru[:, :k], axis=1) # AP_at_k для каждого user (N, )\n",
    "    MAP_at_k = np.mean(AP_at_k)\n",
    "    \n",
    "    return MAP_at_k"
   ]
  },
  {
   "attachments": {},
   "cell_type": "markdown",
   "metadata": {},
   "source": [
    "\n",
    "## Коллаборативная фильтрация (User2User)\n",
    "\n",
    "\n",
    "В качестве функции схожести будет использовано две метрики:\n",
    "\n",
    "1. Корреляция Пирсона $$s(u, v) = \\frac{\\sum_{i \\in I_u \\cap I_v} r_{ui}r_{vi}}{\\sqrt{\\sum_{i \\in I_u} r_{ui} ^2}\\sqrt{\\sum_{i \\in I_v} r_{vi}^2}} $$\n",
    "\n",
    "2. Мера Жаккара\n",
    "\n",
    "$$ s(u, v) = \\frac{|I_u \\cap I_v|}{|I_u \\cup I_v|} $$\n",
    "\n",
    "\n",
    "Корреляция Пирсона немного видоизменена, чтобы подходить под текущую задачу.</br> \n",
    "квадрат в формуле можно опустить т.к. рейтинг принимает два значения 0 или 1 (квадрат которых 0 или 1)\n",
    "\n",
    "Во всех формулах \n",
    "* $I_u$ - множество продуктов, купленных пользователем $u$.\n",
    "* $r_{ui}$ - покупал ли пользователь $u$ продукт $i$ (0 или 1).\n",
    "\n",
    "Множество соседей определим как $$N(u) = \\{ v \\in U \\setminus \\{u\\} \\mid s(u, v) > \\alpha\\},$$ где $\\alpha \\, - $ гиперпараметр.\n",
    "\n",
    "\n",
    "\n",
    "Для агрегации используется следующая формула:\n",
    "$$\n",
    "\\hat{r}_{ui} = \\frac{\\sum_{v \\in N(u)} s(u, v) r_{vi}}{\\sum_{v \\in N(u)} |s(u, v)|}\n",
    "$$"
   ]
  },
  {
   "cell_type": "code",
   "execution_count": 6,
   "metadata": {},
   "outputs": [],
   "source": [
    "def pearson(rating_matrix, user_vector):\n",
    "    \"\"\"\n",
    "        Функция расчета корреляции Пирсона\n",
    "    \"\"\"\n",
    "    # Числитель\n",
    "    numerator = rating_matrix.dot(user_vector.T)\n",
    "    n = rating_matrix.shape[1]\n",
    "    # Знаменатель\n",
    "    denominator = np.sqrt(user_vector.dot(np.ones(shape=(n, 1)))) * np.sqrt(rating_matrix.dot(np.ones(shape=(n, 1))))\n",
    "    ans = numerator / denominator\n",
    "    return ans.toarray()"
   ]
  },
  {
   "cell_type": "code",
   "execution_count": 60,
   "metadata": {},
   "outputs": [],
   "source": [
    "# def get_union(rating_matrix, uid: int = 0):\n",
    "#     unions = []\n",
    "#     for i in range(rating_matrix.shape[0]):\n",
    "#         ans = rating_matrix[i] + rating_matrix[uid]\n",
    "#         union = sum(np.where(ans.toarray()[0] >= 1, 1, 0))\n",
    "#         unions.append(union)\n",
    "#     return np.array(unions)\n",
    "\n",
    "\n",
    "# def jaccard(ratings_matrix, uid: int):\n",
    "#     # Пересечение \n",
    "#     inter = rating_matrix.dot(rating_matrix[uid].T)\n",
    "#     union = get_union(rating_matrix=rating_matrix, uid=0)\n",
    "    \n",
    "#     return inter / union "
   ]
  },
  {
   "cell_type": "code",
   "execution_count": 7,
   "metadata": {},
   "outputs": [],
   "source": [
    "class User2User():\n",
    "\n",
    "    def __init__(self, rating_matrix, similarity_func, encoder):\n",
    "        assert similarity_func in [pearson]\n",
    "        self.rating_matrix = rating_matrix\n",
    "        self.similarity_func = similarity_func\n",
    "        self.alpha = 0.02\n",
    "        self.encoder = encoder\n",
    "\n",
    "    def predict(self, users_to_recommend: list, n_jobs: int = 3, k: int = 10):\n",
    "        \"\"\"\n",
    "            Параллельное вычисление рекомендаций для пользователей\n",
    "        \"\"\"\n",
    "        predictions = Parallel(n_jobs=3)(delayed(self.recommend)(uid=uid, k=k) for uid in users_to_recommend)\n",
    "        return predictions\n",
    "\n",
    "    def cold_start(self):\n",
    "        \"\"\"\n",
    "            Функция холодного старта\n",
    "            возвращает популярные продукты по убываюнию\n",
    "        \"\"\"\n",
    "\n",
    "        return np.argsort(rating_matrix.T.dot(np.ones(shape=(rating_matrix.shape[1], 1))).T)[::-1]\n",
    "\n",
    "    def recommend(self,uid: int, k: int):\n",
    "        \"\"\"\n",
    "            Расчет рекомендаций\n",
    "        \"\"\"\n",
    "\n",
    "        # Если ранее такого пользователя не было, то применяется холодный старт\n",
    "        try:\n",
    "            uid = self.encoder.transform(np.array([uid]))\n",
    "        except:\n",
    "            return self.cold_start()\n",
    "\n",
    "        # Вектор пользователя\n",
    "        user_vector = self.rating_matrix[uid]\n",
    "        # Расчет схожести пользователя с остальными пользователями\n",
    "        sim_vector = self.similarity_func(rating_matrix=self.rating_matrix, user_vector=user_vector)\n",
    "        # Индексы со значением функции схожести выше порогового значения\n",
    "        collab_ids = np.where(sim_vector >= self.alpha)[0]\n",
    "        # Исключается индекс самого объекта\n",
    "        collab_ids = collab_ids[collab_ids != uid]\n",
    "        # Расчет рекомендации \n",
    "        sum_of_suvs = np.sum(sim_vector[collab_ids])\n",
    "        suv_matrix = (self.rating_matrix[collab_ids, ].T.dot(sim_vector[collab_ids])).T/sum_of_suvs\n",
    "        # rui_est = np.sum(suv_matrix, axis=0)\n",
    "\n",
    "        return np.argsort(suv_matrix[0])[::-1][:k]"
   ]
  },
  {
   "cell_type": "code",
   "execution_count": 8,
   "metadata": {},
   "outputs": [],
   "source": [
    "model = User2User(rating_matrix=rating_matrix, \n",
    "                  similarity_func=pearson, \n",
    "                  encoder=encoder)"
   ]
  },
  {
   "cell_type": "code",
   "execution_count": 9,
   "metadata": {},
   "outputs": [],
   "source": [
    "# Пользователи с их релевантными покупками\n",
    "relevant = test_df.groupby(['user_id']).agg({'product_id': 'unique'})['product_id']\n"
   ]
  },
  {
   "cell_type": "code",
   "execution_count": 10,
   "metadata": {},
   "outputs": [
    {
     "name": "stdout",
     "output_type": "stream",
     "text": [
      "CPU times: total: 15min\n",
      "Wall time: 10h 59min 28s\n"
     ]
    }
   ],
   "source": [
    "%%time\n",
    "# Рекомендации\n",
    "predict = model.predict(relevant.index.to_list(), n_jobs=3, k=10)"
   ]
  },
  {
   "cell_type": "code",
   "execution_count": 12,
   "metadata": {},
   "outputs": [
    {
     "data": {
      "text/plain": [
       "0.06903240662163014"
      ]
     },
     "execution_count": 12,
     "metadata": {},
     "output_type": "execute_result"
    }
   ],
   "source": [
    "# Оценка качества\n",
    "mapk(relevant=relevant.to_list(), predicted=predict, k=10)"
   ]
  },
  {
   "cell_type": "code",
   "execution_count": null,
   "metadata": {},
   "outputs": [],
   "source": []
  }
 ],
 "metadata": {
  "kernelspec": {
   "display_name": "Python 3 (ipykernel)",
   "language": "python",
   "name": "python3"
  },
  "language_info": {
   "codemirror_mode": {
    "name": "ipython",
    "version": 3
   },
   "file_extension": ".py",
   "mimetype": "text/x-python",
   "name": "python",
   "nbconvert_exporter": "python",
   "pygments_lexer": "ipython3",
   "version": "3.10.13"
  }
 },
 "nbformat": 4,
 "nbformat_minor": 4
}

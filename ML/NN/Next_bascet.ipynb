{
 "cells": [
  {
   "cell_type": "code",
   "execution_count": 1,
   "metadata": {},
   "outputs": [],
   "source": [
    "import pandas as pd\n",
    "import numpy as np\n",
    "import torch\n",
    "import torch.nn as nn\n",
    "from IPython.display import clear_output\n",
    "import matplotlib.pyplot as plt\n",
    "import gdown\n",
    "import random\n",
    "import pickle"
   ]
  },
  {
   "cell_type": "code",
   "execution_count": 2,
   "metadata": {},
   "outputs": [
    {
     "data": {
      "text/plain": [
       "'cuda'"
      ]
     },
     "execution_count": 2,
     "metadata": {},
     "output_type": "execute_result"
    }
   ],
   "source": [
    "# Установка устройства\n",
    "device = ('cuda' if torch.cuda.is_available() else 'cpu')\n",
    "device"
   ]
  },
  {
   "cell_type": "markdown",
   "metadata": {},
   "source": [
    "### Метрики качества"
   ]
  },
  {
   "cell_type": "code",
   "execution_count": 3,
   "metadata": {},
   "outputs": [],
   "source": [
    "def precision_at_k(relevant, predicted, k: int = 10):\n",
    "    \"\"\" \n",
    "        Функиця расчета Precision@k\n",
    "        relevant - релевантные items для одного пользователя\n",
    "        predicted - рекомендованные items для одного пользователя\n",
    "    \"\"\"\n",
    "    return len(set(relevant[:k]) & set(predicted[:k]))/k \n",
    "\n",
    "def rel_item(relevant, predicted):\n",
    "    \"\"\"\n",
    "        Функция рассчитывает количество релевантных Item\n",
    "    \"\"\"\n",
    "    result = [0]*max(len(relevant), len(predicted))\n",
    "    items = min(len(relevant), len(predicted))\n",
    "    for i in range(items):\n",
    "        result[i] = int(relevant[i] == predicted[i])\n",
    "    return result  \n",
    "\n",
    "\n",
    "def ap_at_k(relevant, predicted, k: int = 10):\n",
    "    \"\"\" \n",
    "        Функция расчета AP@k\n",
    "        relevant - релевантные items для одного пользователя\n",
    "        predicted - рекомендованные items для одного пользователя\n",
    "    \"\"\"\n",
    "    y_i = rel_item(relevant=relevant, predicted=predicted)\n",
    "    p_at_i = [0]*k\n",
    "    iter_cnt = min(len(relevant), k)\n",
    "    for i in range(1, iter_cnt+1):\n",
    "        p_at_i[i-1] = precision_at_k(relevant=relevant, predicted=predicted, k=i)\n",
    "    return sum([y*p/k for y, p in zip(y_i, p_at_i)])\n",
    "\n",
    "def map_at_k(relevant, predicted, k: int = 10):\n",
    "    \"\"\" \n",
    "        Функция расчета MAP@k\n",
    "        relevant список по всем пользователям с их релевантными items\n",
    "        predicted список по всем пользователям с их рекомендованными items\n",
    "    \"\"\"\n",
    "    users = len(relevant)\n",
    "    sum_apk = 0\n",
    "    for user in range(users):\n",
    "        sum_apk += ap_at_k(relevant=relevant[user], predicted=predicted[user], k=k)\n",
    "    return sum_apk/users\n",
    "\n",
    "\n",
    "def nap_at_k(relevant, predicted, k: int = 10):\n",
    "    \"\"\" \n",
    "        Функция расчета normalize AP@k\n",
    "        relevant - релевантные items для одного пользователя\n",
    "        predicted - рекомендованные items для одного пользователя\n",
    "    \"\"\"\n",
    "    y_i = rel_item(relevant=relevant, predicted=predicted)\n",
    "    p_at_i = [0]*k\n",
    "    k = min(len(relevant), k)\n",
    "    for i in range(1, k+1):\n",
    "        p_at_i[i-1] = precision_at_k(relevant=relevant, predicted=predicted, k=i)\n",
    "    return sum([y*p/k for y, p in zip(y_i, p_at_i)])\n",
    "\n",
    "def mnap_at_k(relevant, predicted, k: int = 10):\n",
    "    \"\"\" \n",
    "        Функция расчета MAP@k\n",
    "        relevant список по всем пользователям с их релевантными items\n",
    "        predicted список по всем пользователям с их рекомендованными items\n",
    "    \"\"\"\n",
    "    users = len(relevant)\n",
    "    sum_napk = 0\n",
    "    for user in range(users):\n",
    "        sum_napk += nap_at_k(relevant=relevant[user], predicted=predicted[user], k=k)\n",
    "    return sum_napk/users\n",
    "\n",
    "\n",
    "def hitrate_at_k(relevant, predicted, k: int = 10):\n",
    "    \"\"\"\n",
    "        Функция расчета Hitrate@k\n",
    "        relevant список по всем пользователям с их релевантными items\n",
    "        predicted список по всем пользователям с их рекомендованными items\n",
    "    \"\"\"\n",
    "    \n",
    "    cnt_user = len(predicted) # Количество пользователей    \n",
    "    cnt_valid_user = 0\n",
    "    for user in range(cnt_user):\n",
    "        cnt_valid_user += int(len(set(relevant[user][:k]) & set(predicted[user][:k])) > 0) \n",
    "\n",
    "    return cnt_valid_user/cnt_user\n",
    "\n",
    "\n",
    "def ndsg_at_k(relevant, predicted, k: int = 10):\n",
    "    \"\"\"\n",
    "        Функция расчета nDSG@k\n",
    "        relevant - релевантные items для одного пользователя\n",
    "        predicted - рекомендованные items для одного пользователя\n",
    "    \"\"\"\n",
    "    idsg_at_k = sum([1/np.log2(k+1) for k in range(1, k+1)])\n",
    "    k = min(len(relevant), k)\n",
    "    dsg_at_k = 0\n",
    "    for k in range(1, k+1):\n",
    "        dsg_at_k += int(relevant[k-1] == predicted[k-1])/np.log2(k+1)\n",
    "    return dsg_at_k/idsg_at_k"
   ]
  },
  {
   "attachments": {},
   "cell_type": "markdown",
   "metadata": {},
   "source": [
    "### Подготовка данных"
   ]
  },
  {
   "cell_type": "code",
   "execution_count": 4,
   "metadata": {},
   "outputs": [
    {
     "name": "stderr",
     "output_type": "stream",
     "text": [
      "Downloading...\n",
      "From (original): https://drive.google.com/uc?export=download&id=18s2x14ttYJ-wXjhCEFFtuSwLSOBP5hpC\n",
      "From (redirected): https://drive.google.com/uc?export=download&id=18s2x14ttYJ-wXjhCEFFtuSwLSOBP5hpC&confirm=t&uuid=b05fcd7b-df93-444f-ba43-116c317be273\n",
      "To: /home/noname/projects/NN/Next-Basket-Recommendation/transactions.csv\n",
      "100%|██████████| 1.05G/1.05G [01:43<00:00, 10.2MB/s]\n"
     ]
    }
   ],
   "source": [
    "# Загрузка данных о транзакциях\n",
    "gdown.download(url=\"https://drive.google.com/uc?export=download&id=18s2x14ttYJ-wXjhCEFFtuSwLSOBP5hpC\",  \n",
    "               output=\"transactions.csv\",\n",
    "               quiet=False)\n",
    "main_df = pd.read_csv(\"transactions.csv\", index_col=0)"
   ]
  },
  {
   "cell_type": "code",
   "execution_count": 5,
   "metadata": {},
   "outputs": [],
   "source": [
    "# Кодировщик всех пользователей и продуктов\n",
    "user_to_id = {val: i for i, val in enumerate(sorted(main_df['user_id'].unique()))}\n",
    "product_to_id = {val: i+2 for i, val in enumerate(sorted(main_df['product_id'].unique()))}\n",
    "# Признаки начала и конца последовательности\n",
    "product_to_id[\"SOS\"] = 0\n",
    "product_to_id[\"EOS\"] = 1\n",
    "# Кодирование пользователей\n",
    "main_df[\"user_id\"] = main_df[\"user_id\"].map(lambda x: user_to_id[x])\n",
    "# Декодировщик\n",
    "id_to_user = {id: user for user, id  in user_to_id.items()}\n",
    "id_to_product = {id: product for product, id  in product_to_id.items()}\n",
    "\n",
    "# Выгрузка кодировщиков\n",
    "with open('product_to_id.pickle', 'wb') as handle:\n",
    "    pickle.dump(product_to_id, handle, protocol=pickle.HIGHEST_PROTOCOL)\n",
    "with open('user_to_id.pickle', 'wb') as handle:\n",
    "    pickle.dump(user_to_id, handle, protocol=pickle.HIGHEST_PROTOCOL)\n",
    "with open('id_to_product.pickle', 'wb') as handle:\n",
    "    pickle.dump(id_to_product, handle, protocol=pickle.HIGHEST_PROTOCOL)\n",
    "with open('id_to_user.pickle', 'wb') as handle:\n",
    "    pickle.dump(id_to_user, handle, protocol=pickle.HIGHEST_PROTOCOL)"
   ]
  },
  {
   "cell_type": "code",
   "execution_count": 6,
   "metadata": {},
   "outputs": [],
   "source": [
    "# Формирование датафрейма с последовательностями\n",
    "seq_df = (\n",
    "    main_df\n",
    "    .sort_values(by=[\"user_id\", \"order_number\", \"add_to_cart_order\"])\n",
    "    .groupby([\"user_id\", \"order_number\"], as_index=False)[\"product_id\"]\n",
    "    .agg(list)\n",
    ")"
   ]
  },
  {
   "cell_type": "code",
   "execution_count": 7,
   "metadata": {},
   "outputs": [],
   "source": [
    "# Формировние тестовых данных\n",
    "seq_df[\"invers_index\"] = (\n",
    "    seq_df\n",
    "    .sort_values(by=[\"user_id\", \"order_number\"], ascending=[True, False])\n",
    "    .groupby([\"user_id\"], as_index=False).cumcount()\n",
    ")\n",
    "# Разделение данных\n",
    "test_seq = (\n",
    "    seq_df[seq_df[\"invers_index\"].isin([i for i in range(0, 6)])]\n",
    "    .drop(columns=\"invers_index\"))\n",
    "# Оставляю только последние 6 корзин (5 на вход и 1 таргет)\n",
    "train_seq = ( \n",
    "    seq_df[seq_df[\"invers_index\"].isin([i for i in range(1, 7)])]\n",
    "    .drop(columns=\"invers_index\")\n",
    ")\n",
    "# Последние 5 корзин для инференса\n",
    "inferece_seq = (\n",
    "    seq_df[seq_df[\"invers_index\"].isin([i for i in range(0, 5)])]\n",
    "    .drop(columns=\"invers_index\"))\n",
    "\n",
    "inferece_seq.to_parquet(\"users_baskets.parquet\")"
   ]
  },
  {
   "cell_type": "code",
   "execution_count": 8,
   "metadata": {},
   "outputs": [
    {
     "data": {
      "text/html": [
       "<div>\n",
       "<style scoped>\n",
       "    .dataframe tbody tr th:only-of-type {\n",
       "        vertical-align: middle;\n",
       "    }\n",
       "\n",
       "    .dataframe tbody tr th {\n",
       "        vertical-align: top;\n",
       "    }\n",
       "\n",
       "    .dataframe thead th {\n",
       "        text-align: right;\n",
       "    }\n",
       "</style>\n",
       "<table border=\"1\" class=\"dataframe\">\n",
       "  <thead>\n",
       "    <tr style=\"text-align: right;\">\n",
       "      <th></th>\n",
       "      <th>user_id</th>\n",
       "      <th>order_number</th>\n",
       "      <th>product_id</th>\n",
       "    </tr>\n",
       "  </thead>\n",
       "  <tbody>\n",
       "    <tr>\n",
       "      <th>3</th>\n",
       "      <td>0</td>\n",
       "      <td>4</td>\n",
       "      <td>[196, 12427, 10258, 25133, 26405]</td>\n",
       "    </tr>\n",
       "    <tr>\n",
       "      <th>4</th>\n",
       "      <td>0</td>\n",
       "      <td>5</td>\n",
       "      <td>[196, 12427, 10258, 25133, 10326, 17122, 41787...</td>\n",
       "    </tr>\n",
       "    <tr>\n",
       "      <th>5</th>\n",
       "      <td>0</td>\n",
       "      <td>6</td>\n",
       "      <td>[196, 12427, 10258, 25133]</td>\n",
       "    </tr>\n",
       "    <tr>\n",
       "      <th>6</th>\n",
       "      <td>0</td>\n",
       "      <td>7</td>\n",
       "      <td>[196, 10258, 12427, 25133, 13032]</td>\n",
       "    </tr>\n",
       "    <tr>\n",
       "      <th>7</th>\n",
       "      <td>0</td>\n",
       "      <td>8</td>\n",
       "      <td>[12427, 196, 10258, 25133, 46149, 49235]</td>\n",
       "    </tr>\n",
       "    <tr>\n",
       "      <th>8</th>\n",
       "      <td>0</td>\n",
       "      <td>9</td>\n",
       "      <td>[49235, 46149, 25133, 196, 10258, 12427]</td>\n",
       "    </tr>\n",
       "    <tr>\n",
       "      <th>17</th>\n",
       "      <td>1</td>\n",
       "      <td>8</td>\n",
       "      <td>[32792, 28918, 24852, 34688, 48110, 47209, 320...</td>\n",
       "    </tr>\n",
       "    <tr>\n",
       "      <th>18</th>\n",
       "      <td>1</td>\n",
       "      <td>9</td>\n",
       "      <td>[32792, 24852, 12000, 21376, 2002, 7781, 13742...</td>\n",
       "    </tr>\n",
       "    <tr>\n",
       "      <th>19</th>\n",
       "      <td>1</td>\n",
       "      <td>10</td>\n",
       "      <td>[24852, 12000, 47209, 17872, 18523, 1559, 1915...</td>\n",
       "    </tr>\n",
       "    <tr>\n",
       "      <th>20</th>\n",
       "      <td>1</td>\n",
       "      <td>11</td>\n",
       "      <td>[32792, 4071, 19051, 19156, 18523, 1559, 22124...</td>\n",
       "    </tr>\n",
       "  </tbody>\n",
       "</table>\n",
       "</div>"
      ],
      "text/plain": [
       "    user_id  order_number                                         product_id\n",
       "3         0             4                  [196, 12427, 10258, 25133, 26405]\n",
       "4         0             5  [196, 12427, 10258, 25133, 10326, 17122, 41787...\n",
       "5         0             6                         [196, 12427, 10258, 25133]\n",
       "6         0             7                  [196, 10258, 12427, 25133, 13032]\n",
       "7         0             8           [12427, 196, 10258, 25133, 46149, 49235]\n",
       "8         0             9           [49235, 46149, 25133, 196, 10258, 12427]\n",
       "17        1             8  [32792, 28918, 24852, 34688, 48110, 47209, 320...\n",
       "18        1             9  [32792, 24852, 12000, 21376, 2002, 7781, 13742...\n",
       "19        1            10  [24852, 12000, 47209, 17872, 18523, 1559, 1915...\n",
       "20        1            11  [32792, 4071, 19051, 19156, 18523, 1559, 22124..."
      ]
     },
     "execution_count": 8,
     "metadata": {},
     "output_type": "execute_result"
    }
   ],
   "source": [
    "train_seq.head(10)"
   ]
  },
  {
   "cell_type": "code",
   "execution_count": 9,
   "metadata": {},
   "outputs": [],
   "source": [
    "# Формирование последовательности из корзин клиента\n",
    "def make_seq(inpt):\n",
    "    ans = []\n",
    "    for lst in inpt:\n",
    "        ans += lst\n",
    "    return ans"
   ]
  },
  {
   "cell_type": "code",
   "execution_count": 10,
   "metadata": {},
   "outputs": [],
   "source": [
    "def convert_seq(dict_idxs, seq):\n",
    "    \"\"\"\n",
    "        Перевод значения в индекс\n",
    "    \"\"\"\n",
    "    seq = [dict_idxs[val] for val in seq]\n",
    "    return seq\n",
    "\n",
    "def convert_to_tensor(pair):\n",
    "    \"\"\" \n",
    "        Возвращает тензоры\n",
    "    \"\"\"\n",
    "    inp = torch.tensor(pair[0], dtype=torch.long, device=device).view(-1, 1)\n",
    "    trgt = torch.tensor(pair[1], dtype=torch.long, device=device).view(-1, 1)\n",
    "    return (inp, trgt)\n"
   ]
  },
  {
   "cell_type": "code",
   "execution_count": 11,
   "metadata": {},
   "outputs": [],
   "source": [
    "# Формирование списков последовательностей\n",
    "def get_seqs_of_df(df, id_to_user, prod_to_id):\n",
    "    pairs = []\n",
    "    for user in id_to_user.keys():\n",
    "        sample = df[df[\"user_id\"] == user] \n",
    "        n = len(sample)\n",
    "        if n > 0:\n",
    "            for i in range(4, n):\n",
    "                if i < n-1:\n",
    "                    inpt = sample[\"product_id\"].iloc[i-4:i+1]\n",
    "                    inpt = make_seq(inpt=inpt)\n",
    "                    inpt = convert_seq(dict_idxs=prod_to_id, seq=inpt)\n",
    "                    target = sample[\"product_id\"].iloc[i+1]\n",
    "                    target = convert_seq(dict_idxs=prod_to_id, seq=target)\n",
    "                    pairs.append((inpt, target))\n",
    "    return pairs"
   ]
  },
  {
   "cell_type": "code",
   "execution_count": 12,
   "metadata": {},
   "outputs": [],
   "source": [
    "# Формирование списков последовательностей\n",
    "def get_seqs_for_test(df, id_to_user, prod_to_id):\n",
    "    inputs = []\n",
    "    targets = []\n",
    "    for user in id_to_user.keys():\n",
    "        sample = df[df[\"user_id\"] == user] \n",
    "        n = len(sample)\n",
    "        if n > 0:\n",
    "            for i in range(4, n):\n",
    "                if i < n-1:\n",
    "                    inpt = sample[\"product_id\"].iloc[i-4:i+1]\n",
    "                    inpt = make_seq(inpt=inpt)\n",
    "                    inputs.append(inpt) \n",
    "                    target = sample[\"product_id\"].iloc[i+1]\n",
    "                    targets.append(target)\n",
    "    return inputs, targets"
   ]
  },
  {
   "cell_type": "code",
   "execution_count": 13,
   "metadata": {},
   "outputs": [
    {
     "name": "stdout",
     "output_type": "stream",
     "text": [
      "CPU times: user 1min 16s, sys: 49.7 ms, total: 1min 16s\n",
      "Wall time: 1min 16s\n"
     ]
    }
   ],
   "source": [
    "%%time\n",
    "# Последовательности для обучения\n",
    "train_pairs = get_seqs_of_df(df=train_seq, id_to_user=id_to_user, prod_to_id=product_to_id)\n",
    "# Последовательности для тестирования\n",
    "val_input, val_target = get_seqs_for_test(df=test_seq, id_to_user=id_to_user, prod_to_id=product_to_id)"
   ]
  },
  {
   "cell_type": "code",
   "execution_count": 14,
   "metadata": {},
   "outputs": [],
   "source": [
    "MAX_LENGTH = 630  # Максимальная длина продуктов из последних 5 корзин\n",
    "SOS_token = 0\n",
    "EOS_token = 1"
   ]
  },
  {
   "attachments": {},
   "cell_type": "markdown",
   "metadata": {},
   "source": [
    "### Модель \n",
    "</br> Next Bascet model: Sec2Sec модель, которая включает encoder и decoder с рекурентными слоями.\n"
   ]
  },
  {
   "attachments": {},
   "cell_type": "markdown",
   "metadata": {},
   "source": [
    "**Encoder**"
   ]
  },
  {
   "cell_type": "code",
   "execution_count": 15,
   "metadata": {},
   "outputs": [],
   "source": [
    "class EncoderRNN(nn.Module):\n",
    "    def __init__(self, input_size, hidden_size):\n",
    "        super(EncoderRNN, self).__init__()\n",
    "        self.hidden_size = hidden_size\n",
    "        self.embedding = nn.Embedding(input_size, hidden_size)\n",
    "        self.gru = nn.GRU(hidden_size, hidden_size)\n",
    "\n",
    "    def forward(self, input, hidden):\n",
    "        embedded = self.embedding(input).view(1, 1, -1)\n",
    "        output = embedded\n",
    "        output, hidden = self.gru(output, hidden)\n",
    "        return output, hidden\n",
    "\n",
    "    def initHidden(self):\n",
    "        return torch.zeros(1, 1, self.hidden_size, device=device)"
   ]
  },
  {
   "attachments": {},
   "cell_type": "markdown",
   "metadata": {},
   "source": [
    "**Decoder**"
   ]
  },
  {
   "cell_type": "code",
   "execution_count": 16,
   "metadata": {},
   "outputs": [],
   "source": [
    "class DecoderRNN(nn.Module):\n",
    "    def __init__(self, hidden_size, output_size):\n",
    "        super(DecoderRNN, self).__init__()\n",
    "        self.hidden_size = hidden_size\n",
    "        self.embedding = nn.Embedding(output_size, hidden_size)\n",
    "        self.gru = nn.GRU(hidden_size, hidden_size)\n",
    "        self.out = nn.Linear(hidden_size, output_size)\n",
    "        self.softmax = nn.LogSoftmax(dim=1)\n",
    "        \n",
    "\n",
    "    def forward(self, input, hidden, _):\n",
    "        output = self.embedding(input).view(1, 1, -1)\n",
    "        output, hidden = self.gru(output, hidden)\n",
    "        output = self.softmax(self.out(output[0]))\n",
    "        return output, hidden\n",
    "\n",
    "    def initHidden(self):\n",
    "        return torch.zeros(1, 1, self.hidden_size, device=device)"
   ]
  },
  {
   "attachments": {},
   "cell_type": "markdown",
   "metadata": {},
   "source": [
    "### Обучение"
   ]
  },
  {
   "cell_type": "code",
   "execution_count": 17,
   "metadata": {},
   "outputs": [],
   "source": [
    "def train(input_tensor, target_tensor, \n",
    "          encoder, decoder, \n",
    "          encoder_optimizer, decoder_optimizer, \n",
    "          criterion, use_teacher_forcing = True, \n",
    "          max_length=MAX_LENGTH):\n",
    "    encoder_hidden = encoder.initHidden()\n",
    "    encoder_optimizer.zero_grad()\n",
    "    decoder_optimizer.zero_grad()\n",
    "\n",
    "    input_length = input_tensor.size(0)\n",
    "    target_length = target_tensor.size(0)\n",
    "\n",
    "    encoder_outputs = torch.zeros(max_length, encoder.hidden_size, device=device)\n",
    "\n",
    "    loss = 0\n",
    "\n",
    "    for ei in range(input_length):\n",
    "        encoder_output, encoder_hidden = encoder(\n",
    "            input_tensor[ei], encoder_hidden)\n",
    "        encoder_outputs[ei] = encoder_output[0, 0]\n",
    "\n",
    "    decoder_input = torch.tensor([[SOS_token]], device=device)\n",
    "\n",
    "    decoder_hidden = encoder_hidden\n",
    "\n",
    "    \n",
    "    if use_teacher_forcing:\n",
    "        for di in range(target_length):\n",
    "            decoder_output, decoder_hidden = decoder(\n",
    "                decoder_input, decoder_hidden, encoder_outputs)\n",
    "\n",
    "            loss += criterion(decoder_output, target_tensor[di])\n",
    "            decoder_input = target_tensor[di]\n",
    "\n",
    "    else:\n",
    "        for di in range(target_length):\n",
    "            decoder_output, decoder_hidden = decoder(\n",
    "                decoder_input, decoder_hidden, encoder_outputs)\n",
    "\n",
    "            _, topi = decoder_output.topk(1)\n",
    "            decoder_input = topi.squeeze().detach()\n",
    "\n",
    "            loss += criterion(decoder_output, target_tensor[di])\n",
    "            if decoder_input.item() == EOS_token:\n",
    "                break\n",
    "\n",
    "    loss.backward()\n",
    "\n",
    "    encoder_optimizer.step()\n",
    "    decoder_optimizer.step()\n",
    "\n",
    "    return loss.item() / target_length"
   ]
  },
  {
   "cell_type": "code",
   "execution_count": 18,
   "metadata": {},
   "outputs": [],
   "source": [
    "def get_train_graph(points, step):\n",
    "    \"\"\" \n",
    "        Функция для отрисовки \n",
    "    \"\"\"\n",
    "    clear_output()\n",
    "    plt.figure(figsize=(10, 5))\n",
    "    plt.plot([i * step for i in range(1, len(points)+1)], points)\n",
    "    plt.grid()\n",
    "    plt.title(\"Loss function\")\n",
    "    plt.xlabel(\"num iter\")\n",
    "    plt.ylabel(\"loss\")\n",
    "    plt.show()\n",
    "    "
   ]
  },
  {
   "cell_type": "code",
   "execution_count": 22,
   "metadata": {},
   "outputs": [],
   "source": [
    "def trainIters(encoder, decoder, n_iters,\n",
    "               print_every=1000, plot_every=1000, \n",
    "               learning_rate=0.01):\n",
    "    plot_losses = []\n",
    "    print_loss_total = 0\n",
    "    plot_loss_total = 0\n",
    "\n",
    "    encoder_optimizer = torch.optim.SGD(encoder.parameters(), lr=learning_rate)\n",
    "    decoder_optimizer = torch.optim.SGD(decoder.parameters(), lr=learning_rate)\n",
    "    training_pairs = [convert_to_tensor(random.choice(train_pairs)) \n",
    "                      for i in range(n_iters)]\n",
    "    criterion = nn.NLLLoss()\n",
    "\n",
    "    for iter in range(1, n_iters + 1):\n",
    "        training_pair = training_pairs[iter - 1]\n",
    "        input_tensor = training_pair[0]\n",
    "        target_tensor = training_pair[1]\n",
    "\n",
    "        loss = train(input_tensor, target_tensor, encoder,\n",
    "                     decoder, encoder_optimizer, decoder_optimizer, criterion)\n",
    "        print_loss_total += loss\n",
    "        plot_loss_total += loss\n",
    "\n",
    "        if print_every is not None and iter % print_every == 0:\n",
    "            print_loss_avg = print_loss_total / print_every\n",
    "            print_loss_total = 0\n",
    "            print('(%d %d%%) %.4f' % (iter, iter / n_iters * 100, print_loss_avg))\n",
    "\n",
    "        if plot_every is not None and iter % plot_every == 0:\n",
    "            plot_loss_avg = plot_loss_total / plot_every\n",
    "            plot_losses.append(plot_loss_avg)\n",
    "            plot_loss_total = 0\n",
    "            get_train_graph(plot_losses, plot_every)"
   ]
  },
  {
   "cell_type": "code",
   "execution_count": 20,
   "metadata": {},
   "outputs": [
    {
     "data": {
      "text/plain": [
       "<All keys matched successfully>"
      ]
     },
     "execution_count": 20,
     "metadata": {},
     "output_type": "execute_result"
    }
   ],
   "source": [
    "# Инициализация моделей\n",
    "hidden_size = 128\n",
    "encoder0 = EncoderRNN(len(product_to_id.keys())+3, hidden_size).to(device)\n",
    "decoder0 = DecoderRNN(hidden_size, len(product_to_id.keys())+3).to(device)\n",
    "# Загрузка весов предыдущих экспериментов\n",
    "# encoder0.load_state_dict(torch.load(\"encoder.pt\"))\n",
    "# decoder0.load_state_dict(torch.load(\"decoder.pt\"))"
   ]
  },
  {
   "cell_type": "code",
   "execution_count": 29,
   "metadata": {},
   "outputs": [
    {
     "data": {
      "image/png": "[encoded data removed]",
      "text/plain": [
       "<Figure size 1000x500 with 1 Axes>"
      ]
     },
     "metadata": {},
     "output_type": "display_data"
    },
    {
     "name": "stdout",
     "output_type": "stream",
     "text": [
      "CPU times: user 1h 53min 40s, sys: 44.1 s, total: 1h 54min 24s\n",
      "Wall time: 1h 54min 22s\n"
     ]
    }
   ],
   "source": [
    "%%time\n",
    "# Обучение модели\n",
    "trainIters(encoder0, decoder0, n_iters=200000,\n",
    "        print_every=None, plot_every=2000)"
   ]
  },
  {
   "cell_type": "code",
   "execution_count": 30,
   "metadata": {},
   "outputs": [],
   "source": [
    "# Сохранение весов модели\n",
    "torch.save(encoder0.state_dict(), \"encoder_1.pt\")\n",
    "torch.save(decoder0.state_dict(), \"decoder_1.pt\")"
   ]
  },
  {
   "cell_type": "markdown",
   "metadata": {},
   "source": [
    "### Инференс"
   ]
  },
  {
   "cell_type": "code",
   "execution_count": 31,
   "metadata": {},
   "outputs": [],
   "source": [
    "def evaluate(encoder, decoder, seq, prod_to_id, k=10, max_length=MAX_LENGTH):\n",
    "    with torch.no_grad():\n",
    "        input_tensor = convert_seq(prod_to_id, seq)\n",
    "        input_tensor = torch.tensor(input_tensor, dtype=torch.long, device=device).view(-1, 1)\n",
    "        input_length = input_tensor.size()[0]\n",
    "        encoder_hidden = encoder.initHidden()\n",
    "\n",
    "        encoder_outputs = torch.zeros(max_length, encoder.hidden_size, device=device)\n",
    "\n",
    "        for ei in range(input_length):\n",
    "            encoder_output, encoder_hidden = encoder(input_tensor[ei],\n",
    "                                                     encoder_hidden)\n",
    "            encoder_outputs[ei] += encoder_output[0, 0]\n",
    "\n",
    "        decoder_input = torch.tensor([[SOS_token]], device=device)  # SOS\n",
    "\n",
    "        decoder_hidden = encoder_hidden\n",
    "\n",
    "        decoded_words = []\n",
    "\n",
    "        for di in range(k): # Количество слов\n",
    "            decoder_output, decoder_hidden = decoder(\n",
    "                decoder_input, decoder_hidden, encoder_outputs)\n",
    "\n",
    "            _, topi = decoder_output.data.topk(1)\n",
    "            if topi.item() == EOS_token:\n",
    "                decoded_words.append('<EOS>')\n",
    "                break\n",
    "            else:\n",
    "                decoded_words.append(id_to_product[topi.item()])\n",
    "\n",
    "            decoder_input = topi.squeeze().detach()\n",
    "\n",
    "        return decoded_words\n"
   ]
  },
  {
   "cell_type": "code",
   "execution_count": 32,
   "metadata": {},
   "outputs": [
    {
     "name": "stdout",
     "output_type": "stream",
     "text": [
      "CPU times: user 1h 18min 22s, sys: 965 ms, total: 1h 18min 23s\n",
      "Wall time: 14min 17s\n"
     ]
    }
   ],
   "source": [
    "%%time\n",
    "# Предикт по всем пользователям\n",
    "answers = []\n",
    "for seq in val_input:\n",
    "    ans = evaluate(encoder=encoder0,\n",
    "         decoder=decoder0,\n",
    "         seq=seq,\n",
    "         k=10,\n",
    "         prod_to_id=product_to_id)\n",
    "    answers.append(ans)"
   ]
  },
  {
   "cell_type": "code",
   "execution_count": 33,
   "metadata": {},
   "outputs": [],
   "source": [
    "# Метрики качетсва модели\n",
    "metrics = {}\n",
    "metrics[\"MAP@k\"] = map_at_k(relevant=val_target, predicted=answers, k=10)\n",
    "metrics[\"MNAP@k\"] = mnap_at_k(relevant=val_target, predicted=answers, k=10)\n",
    "metrics[\"Hitrate@k\"] = hitrate_at_k(relevant=val_target, predicted=answers, k=10)\n",
    "sum_ndsg = 0\n",
    "sum_precision = 0\n",
    "for user in range(len(val_target)):\n",
    "    rel = val_target[user]\n",
    "    pred = answers[user]\n",
    "    sum_ndsg += ndsg_at_k(relevant=rel, predicted=pred, k=10)\n",
    "    sum_precision += precision_at_k(relevant=rel, predicted=pred, k=10)\n",
    "metrics[\"AVG_nDSG@k\"] = sum_ndsg/len(val_target)\n",
    "metrics[\"AVG_Precision@k\"] = sum_precision/len(val_target)"
   ]
  },
  {
   "cell_type": "code",
   "execution_count": 34,
   "metadata": {},
   "outputs": [
    {
     "data": {
      "text/plain": [
       "{'MAP@k': 0.019605186904757547,\n",
       " 'MNAP@k': 0.03746035197625272,\n",
       " 'Hitrate@k': 0.59713,\n",
       " 'AVG_nDSG@k': 0.044378228811807995,\n",
       " 'AVG_Precision@k': 0.10501500000006163}"
      ]
     },
     "execution_count": 34,
     "metadata": {},
     "output_type": "execute_result"
    }
   ],
   "source": [
    "metrics"
   ]
  }
 ],
 "metadata": {
  "kernelspec": {
   "display_name": "Python 3",
   "language": "python",
   "name": "python3"
  },
  "language_info": {
   "codemirror_mode": {
    "name": "ipython",
    "version": 3
   },
   "file_extension": ".py",
   "mimetype": "text/x-python",
   "name": "python",
   "nbconvert_exporter": "python",
   "pygments_lexer": "ipython3",
   "version": "3.10.12"
  },
  "orig_nbformat": 4
 },
 "nbformat": 4,
 "nbformat_minor": 2
}

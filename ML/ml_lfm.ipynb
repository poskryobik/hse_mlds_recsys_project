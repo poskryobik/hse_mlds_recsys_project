{
 "cells": [
  {
   "cell_type": "code",
   "execution_count": 1,
   "metadata": {},
   "outputs": [],
   "source": [
    "import pandas as pd\n",
    "import numpy as np\n",
    "import gdown \n",
    "import scipy.sparse as sps\n",
    "import pickle\n",
    "from tqdm import tqdm\n",
    "from lightfm import LightFM\n",
    "from lightfm.evaluation import precision_at_k"
   ]
  },
  {
   "attachments": {},
   "cell_type": "markdown",
   "metadata": {},
   "source": [
    "## Загрузка данных"
   ]
  },
  {
   "cell_type": "code",
   "execution_count": 21,
   "metadata": {},
   "outputs": [
    {
     "name": "stderr",
     "output_type": "stream",
     "text": [
      "Downloading...\n",
      "From: https://drive.google.com/uc?export=download&id=1Ud6jFto6e7FW5y0LxxwX8afpmTrvA0u-\n",
      "To: /home/noname/projects/hse_mlds_recsys_project/ML/test_transacrion_df.csv\n",
      "100%|██████████| 52.4M/52.4M [00:08<00:00, 6.36MB/s]\n"
     ]
    }
   ],
   "source": [
    "# Загрузка тестовых данных\n",
    "gdown.download(url=\"https://drive.google.com/uc?export=download&id=1Ud6jFto6e7FW5y0LxxwX8afpmTrvA0u-\",  \n",
    "               output=\"test_transacrion_df.csv\",\n",
    "               quiet=False)\n",
    "# Загрузка датафрейма с тестовыми данными\n",
    "test_df = pd.read_csv(\"test_transacrion_df.csv\", index_col=0)\n",
    "test_all_df = test_df.copy()"
   ]
  },
  {
   "cell_type": "code",
   "execution_count": 22,
   "metadata": {},
   "outputs": [
    {
     "name": "stderr",
     "output_type": "stream",
     "text": [
      "Downloading...\n",
      "From: https://drive.google.com/uc?export=download&id=1eodl9OlaYy3NTu9TpbtPLHNurXxeHlhh\n",
      "To: /home/noname/projects/hse_mlds_recsys_project/ML/encoder.pkl\n",
      "100%|██████████| 800k/800k [00:00<00:00, 3.78MB/s]\n"
     ]
    }
   ],
   "source": [
    "# Загрузка кодировщика user_id\n",
    "gdown.download(url=\"https://drive.google.com/uc?export=download&id=1eodl9OlaYy3NTu9TpbtPLHNurXxeHlhh\",  \n",
    "               output=\"encoder.pkl\",\n",
    "               quiet=False)\n",
    "# Загрузка кодировщика\n",
    "with open(\"encoder.pkl\", \"rb\") as f:\n",
    "    encoder = pickle.load(f)"
   ]
  },
  {
   "cell_type": "code",
   "execution_count": 23,
   "metadata": {},
   "outputs": [
    {
     "name": "stderr",
     "output_type": "stream",
     "text": [
      "Downloading...\n",
      "From: https://drive.google.com/uc?export=download&id=1epGrpzB8BEC2t5Od3hrL3x07B1VZIm3c\n",
      "To: /home/noname/projects/hse_mlds_recsys_project/ML/ratings.csv\n",
      "100%|██████████| 211M/211M [00:18<00:00, 11.3MB/s] \n"
     ]
    }
   ],
   "source": [
    "# Загрузка датафрейма с рейтингами\n",
    "gdown.download(url=\"https://drive.google.com/uc?export=download&id=1epGrpzB8BEC2t5Od3hrL3x07B1VZIm3c\",  \n",
    "               output=\"ratings.csv\",\n",
    "               quiet=False)\n",
    "rating_df = pd.read_csv(\"ratings.csv\", index_col=0)"
   ]
  },
  {
   "cell_type": "code",
   "execution_count": 24,
   "metadata": {},
   "outputs": [],
   "source": [
    "# Перекодировка пользователей\n",
    "init_test_df = test_df.copy()\n",
    "test_df['user_id'] = encoder.transform(test_df['user_id'])\n",
    "test_df = test_df[['user_id', 'product_id']].drop_duplicates()\n",
    "test_df['rating'] = 1\n",
    "rating_df['user_id'] = encoder.transform(rating_df['user_id'])"
   ]
  },
  {
   "cell_type": "code",
   "execution_count": 25,
   "metadata": {},
   "outputs": [],
   "source": [
    "# Приведение типов к менее тяжеловесным\n",
    "rating_df[\"user_id\"] = pd.to_numeric(rating_df[\"user_id\"], downcast=\"integer\")\n",
    "rating_df[\"product_id\"] = pd.to_numeric(rating_df[\"product_id\"], downcast=\"integer\")\n",
    "rating_df[\"rating\"] = pd.to_numeric(rating_df[\"rating\"], downcast=\"integer\")\n",
    "test_df[\"user_id\"] = pd.to_numeric(test_df[\"user_id\"], downcast=\"integer\")\n",
    "test_df[\"product_id\"] = pd.to_numeric(test_df[\"product_id\"], downcast=\"integer\")\n",
    "test_df[\"rating\"] = pd.to_numeric(test_df[\"rating\"], downcast=\"integer\")"
   ]
  },
  {
   "cell_type": "code",
   "execution_count": 26,
   "metadata": {},
   "outputs": [],
   "source": [
    "def make_sparse(dataset: pd.DataFrame) -> sps.coo_matrix:\n",
    "    row = dataset[\"user_id\"].to_numpy()\n",
    "    col = dataset[\"product_id\"].to_numpy()\n",
    "    data = dataset[\"rating\"].to_numpy()\n",
    "    return sps.coo_matrix((data, (row, col)))"
   ]
  },
  {
   "cell_type": "code",
   "execution_count": 27,
   "metadata": {},
   "outputs": [],
   "source": [
    "train_sparse = make_sparse(dataset=rating_df)\n",
    "test_sparse = make_sparse(dataset=test_df)"
   ]
  },
  {
   "attachments": {},
   "cell_type": "markdown",
   "metadata": {},
   "source": [
    "## Метрика качества"
   ]
  },
  {
   "cell_type": "code",
   "execution_count": 30,
   "metadata": {},
   "outputs": [],
   "source": [
    "def precision_at_k(relevant, predicted, k: int = 10):\n",
    "    \"\"\" \n",
    "        Функиця расчета Precision@k\n",
    "        relevant - релевантные items для одного пользователя\n",
    "        predicted - рекомендованные items для одного пользователя\n",
    "    \"\"\"\n",
    "    return len(set(relevant[:k]) & set(predicted[:k]))/k \n",
    "\n",
    "def rel_item(relevant, predicted):\n",
    "    \"\"\"\n",
    "        Функция рассчитывает количество релевантных Item\n",
    "    \"\"\"\n",
    "    result = [0]*max(len(relevant), len(predicted))\n",
    "    items = min(len(relevant), len(predicted))\n",
    "    for i in range(items):\n",
    "        result[i] = int(relevant[i] == predicted[i])\n",
    "    return result  \n",
    "\n",
    "\n",
    "def ap_at_k(relevant, predicted, k: int = 10):\n",
    "    \"\"\" \n",
    "        Функция расчета AP@k\n",
    "        relevant - релевантные items для одного пользователя\n",
    "        predicted - рекомендованные items для одного пользователя\n",
    "    \"\"\"\n",
    "    y_i = rel_item(relevant=relevant, predicted=predicted)\n",
    "    p_at_i = [0]*k\n",
    "    iter_cnt = min(len(relevant), k)\n",
    "    for i in range(1, iter_cnt+1):\n",
    "        p_at_i[i-1] = precision_at_k(relevant=relevant, predicted=predicted, k=i)\n",
    "    return sum([y*p/k for y, p in zip(y_i, p_at_i)])\n",
    "\n",
    "def map_at_k(relevant, predicted, k: int = 10):\n",
    "    \"\"\" \n",
    "        Функция расчета MAP@k\n",
    "        relevant список по всем пользователям с их релевантными items\n",
    "        predicted список по всем пользователям с их рекомендованными items\n",
    "    \"\"\"\n",
    "    users = len(relevant)\n",
    "    sum_apk = 0\n",
    "    for user in range(users):\n",
    "        sum_apk += ap_at_k(relevant=relevant[user], predicted=predicted[user], k=k)\n",
    "    return sum_apk/users\n",
    "\n",
    "\n",
    "def nap_at_k(relevant, predicted, k: int = 10):\n",
    "    \"\"\" \n",
    "        Функция расчета normalize AP@k\n",
    "        relevant - релевантные items для одного пользователя\n",
    "        predicted - рекомендованные items для одного пользователя\n",
    "    \"\"\"\n",
    "    y_i = rel_item(relevant=relevant, predicted=predicted)\n",
    "    p_at_i = [0]*k\n",
    "    k = min(len(relevant), k)\n",
    "    for i in range(1, k+1):\n",
    "        p_at_i[i-1] = precision_at_k(relevant=relevant, predicted=predicted, k=i)\n",
    "    return sum([y*p/k for y, p in zip(y_i, p_at_i)])\n",
    "\n",
    "def mnap_at_k(relevant, predicted, k: int = 10):\n",
    "    \"\"\" \n",
    "        Функция расчета MAP@k\n",
    "        relevant список по всем пользователям с их релевантными items\n",
    "        predicted список по всем пользователям с их рекомендованными items\n",
    "    \"\"\"\n",
    "    users = len(relevant)\n",
    "    sum_napk = 0\n",
    "    for user in range(users):\n",
    "        sum_napk += nap_at_k(relevant=relevant[user], predicted=predicted[user], k=k)\n",
    "    return sum_napk/users\n",
    "\n",
    "\n",
    "def hitrate_at_k(relevant, predicted, k: int = 10):\n",
    "    \"\"\"\n",
    "        Функция расчета Hitrate@k\n",
    "        relevant список по всем пользователям с их релевантными items\n",
    "        predicted список по всем пользователям с их рекомендованными items\n",
    "    \"\"\"\n",
    "    \n",
    "    cnt_user = len(predicted) # Количество пользователей    \n",
    "    cnt_valid_user = 0\n",
    "    for user in range(cnt_user):\n",
    "        cnt_valid_user += int(len(set(relevant[user][:k]) & set(predicted[user][:k])) > 0) \n",
    "\n",
    "    return cnt_valid_user/cnt_user\n",
    "\n",
    "\n",
    "def ndsg_at_k(relevant, predicted, k: int = 10):\n",
    "    \"\"\"\n",
    "        Функция расчета nDSG@k\n",
    "        relevant - релевантные items для одного пользователя\n",
    "        predicted - рекомендованные items для одного пользователя\n",
    "    \"\"\"\n",
    "    idsg_at_k = sum([1/np.log2(k+1) for k in range(1, k+1)])\n",
    "    k = min(len(relevant), k)\n",
    "    dsg_at_k = 0\n",
    "    for k in range(1, k+1):\n",
    "        dsg_at_k += int(relevant[k-1] == predicted[k-1])/np.log2(k+1)\n",
    "    return dsg_at_k/idsg_at_k"
   ]
  },
  {
   "cell_type": "code",
   "execution_count": 31,
   "metadata": {},
   "outputs": [],
   "source": [
    "def avg_precision_at_k(model, test_interactions, k:int=10, num_threads:int=60):\n",
    "    p_at_k = precision_at_k(model=model, \n",
    "                            test_interactions=test_interactions,\n",
    "                            k=10, \n",
    "                            num_threads=60)\n",
    "    return sum(p_at_k)/len(p_at_k)"
   ]
  },
  {
   "cell_type": "markdown",
   "metadata": {},
   "source": [
    "## Модель"
   ]
  },
  {
   "cell_type": "code",
   "execution_count": 32,
   "metadata": {},
   "outputs": [],
   "source": [
    "class LFM():\n",
    "\n",
    "    def __init__(self, encoder, rating_df=None, model=None):\n",
    "        if model is None:\n",
    "            self.model = LightFM(no_components=10,\n",
    "                                loss='warp', \n",
    "                                random_state=42, \n",
    "                                learning_rate=0.01)\n",
    "        else:\n",
    "            self.model = model\n",
    "        self.encoder = encoder\n",
    "        self.rating_df = rating_df\n",
    "\n",
    "    def predict(self, users_to_recommend: list, k: int = 10):\n",
    "        \"\"\"\n",
    "            Параллельное вычисление рекомендаций для пользователей\n",
    "        \"\"\"\n",
    "        predictions = {}\n",
    "        for uid in users_to_recommend:\n",
    "            predictions[uid] = self.recommend(uid=uid, k=k)\n",
    "        return predictions\n",
    "\n",
    "    def cold_start(self):\n",
    "        \"\"\"\n",
    "            Функция холодного старта\n",
    "            возвращает популярные продукты по убываюнию\n",
    "        \"\"\"\n",
    "        if self.rating_df is None:\n",
    "            return None\n",
    "        return np.argsort(np.array(self.rating_df.groupby(\"product_id\")[\"rating\"].sum()))[::-1]\n",
    "\n",
    "\n",
    "    def recommend(self,uid: int, k: int):\n",
    "        \"\"\"\n",
    "            Расчет рекомендаций\n",
    "        \"\"\"\n",
    "        # Если ранее такого пользователя не было, то применяется холодный старт\n",
    "        try:\n",
    "            uid = self.encoder.transform(np.array([uid]))[0]\n",
    "        except:\n",
    "            return self.cold_start()[:k]\n",
    "        \n",
    "        items = sorted(self.rating_df['product_id'].unique())\n",
    "        scores = self.model.predict(user_ids=[uid]*len(items), \n",
    "                                    item_ids=items)\n",
    "        predict = np.array(items)[np.argsort(-scores)][:k]\n",
    "        return predict.tolist()\n",
    "        \n",
    "    def fit(self, train_sparse, epochs, rounds, num_threads=60):\n",
    "        for rounds in tqdm(range(rounds)): \n",
    "            self.model.fit_partial(train_sparse, \n",
    "                            sample_weight=train_sparse, \n",
    "                            epochs=epochs, \n",
    "                            num_threads=num_threads)\n"
   ]
  },
  {
   "cell_type": "code",
   "execution_count": 33,
   "metadata": {},
   "outputs": [],
   "source": [
    "# Инициализация\n",
    "model = LightFM(no_components=10, loss='warp', \n",
    "                random_state=42, learning_rate=0.01)\n",
    "\n",
    "lfm_model = LFM(encoder=encoder, rating_df=rating_df, model=model)"
   ]
  },
  {
   "cell_type": "code",
   "execution_count": 34,
   "metadata": {},
   "outputs": [
    {
     "name": "stderr",
     "output_type": "stream",
     "text": [
      "100%|██████████| 5/5 [00:28<00:00,  5.66s/it]\n"
     ]
    }
   ],
   "source": [
    "# Обучение\n",
    "lfm_model.fit(train_sparse=train_sparse, epochs=5, \n",
    "              rounds=5, num_threads=60)"
   ]
  },
  {
   "cell_type": "markdown",
   "metadata": {},
   "source": [
    "Оценки качества LightFM модели"
   ]
  },
  {
   "cell_type": "code",
   "execution_count": 58,
   "metadata": {},
   "outputs": [],
   "source": [
    "# Пользователи с их релевантными покупками\n",
    "relevant = (test_all_df.sort_values(by=[\"user_id\", \"add_to_cart_order\"])\n",
    "            .groupby(['user_id'])\n",
    "            .agg({'product_id': 'unique'})['product_id'].to_list())"
   ]
  },
  {
   "cell_type": "code",
   "execution_count": 59,
   "metadata": {},
   "outputs": [],
   "source": [
    "%%time\n",
    "predict = lfm_model.predict(users_to_recommend=list(test_all_df['user_id'].unique()), k=10)\n",
    "predict = list(predict.values())"
   ]
  },
  {
   "cell_type": "code",
   "execution_count": null,
   "metadata": {},
   "outputs": [],
   "source": [
    "metrics = {}\n",
    "metrics[\"MAP@k\"] = map_at_k(relevant=relevant[:100], predicted=predict, k=10)\n",
    "metrics[\"MNAP@k\"] = mnap_at_k(relevant=relevant, predicted=predict, k=10)\n",
    "metrics[\"Hitrate@k\"] = hitrate_at_k(relevant=relevant, predicted=predict, k=10)\n",
    "sum_ndsg = 0\n",
    "sum_precision = 0\n",
    "for user in range(len(relevant)):\n",
    "    rel = relevant[user]\n",
    "    pred = predict[user]\n",
    "    sum_ndsg += ndsg_at_k(relevant=rel, predicted=pred, k=10)\n",
    "    sum_precision += precision_at_k(relevant=rel, predicted=pred, k=10)\n",
    "metrics[\"AVG_nDSG@k\"] = sum_ndsg/len(relevant)\n",
    "metrics[\"AVG_Precision@k\"] = sum_precision/len(relevant)"
   ]
  },
  {
   "cell_type": "code",
   "execution_count": null,
   "metadata": {},
   "outputs": [
    {
     "data": {
      "text/plain": [
       "{'MAP@k': 0.007583333333333333,\n",
       " 'MNAP@k': 0.013312962962962964,\n",
       " 'Hitrate@k': 0.45,\n",
       " 'AVG_nDSG@k': 0.01818597805998347,\n",
       " 'AVG_Precision@k': 0.06699999999999996}"
      ]
     },
     "execution_count": 57,
     "metadata": {},
     "output_type": "execute_result"
    }
   ],
   "source": [
    "metrics"
   ]
  },
  {
   "cell_type": "code",
   "execution_count": 14,
   "metadata": {},
   "outputs": [],
   "source": [
    "# Сохранение модели\n",
    "with open(\"../app/models/lfm_model.pkl\", \"wb\") as f:\n",
    "    pickle.dump(lfm_model.model, f)"
   ]
  },
  {
   "cell_type": "code",
   "execution_count": 15,
   "metadata": {},
   "outputs": [
    {
     "data": {
      "text/plain": [
       "{21903, 47766}"
      ]
     },
     "execution_count": 15,
     "metadata": {},
     "output_type": "execute_result"
    }
   ],
   "source": [
    "# Множество с рекоменлацией\n",
    "predict_set = set(lfm_model.recommend(uid=3, k=10))\n",
    "# Множество релевантных продуктов\n",
    "relevant_set = set(np.array(init_test_df[init_test_df[\"user_id\"] == 3][\"product_id\"]))\n",
    "# Пересечение\n",
    "relevant_set & predict_set "
   ]
  },
  {
   "cell_type": "code",
   "execution_count": 16,
   "metadata": {},
   "outputs": [
    {
     "data": {
      "text/plain": [
       "{1: [13176, 6184, 16797, 21137, 196, 12341, 43352, 13575, 8571, 39275],\n",
       " 3: [21137, 24852, 13176, 21903, 26209, 47209, 47626, 47766, 39275, 16797],\n",
       " 2917: [21137, 24852, 21903, 13176, 47209, 26209, 47766, 47626, 22935, 24964]}"
      ]
     },
     "execution_count": 16,
     "metadata": {},
     "output_type": "execute_result"
    }
   ],
   "source": [
    "# Предикт для списка пользователей\n",
    "lfm_model.predict(users_to_recommend=[1, 3, 2917], k=10)"
   ]
  }
 ],
 "metadata": {
  "kernelspec": {
   "display_name": "Python 3 (ipykernel)",
   "language": "python",
   "name": "python3"
  },
  "language_info": {
   "codemirror_mode": {
    "name": "ipython",
    "version": 3
   },
   "file_extension": ".py",
   "mimetype": "text/x-python",
   "name": "python",
   "nbconvert_exporter": "python",
   "pygments_lexer": "ipython3",
   "version": "3.10.12"
  }
 },
 "nbformat": 4,
 "nbformat_minor": 4
}

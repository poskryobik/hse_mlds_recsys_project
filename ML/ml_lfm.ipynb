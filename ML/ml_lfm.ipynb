{
 "cells": [
  {
   "cell_type": "code",
   "execution_count": 1,
   "metadata": {},
   "outputs": [],
   "source": [
    "import pandas as pd\n",
    "import numpy as np\n",
    "import gdown \n",
    "import seaborn as sns\n",
    "import matplotlib.pyplot as plt\n",
    "import scipy.sparse as sps\n",
    "import pickle\n",
    "from tqdm import tqdm\n",
    "from joblib import Parallel, delayed\n",
    "\n",
    "from lightfm import LightFM\n",
    "from lightfm.evaluation import precision_at_k"
   ]
  },
  {
   "attachments": {},
   "cell_type": "markdown",
   "metadata": {},
   "source": [
    "## Загрузка данных"
   ]
  },
  {
   "cell_type": "code",
   "execution_count": 2,
   "metadata": {},
   "outputs": [
    {
     "name": "stderr",
     "output_type": "stream",
     "text": [
      "Downloading...\n",
      "From: https://drive.google.com/uc?export=download&id=1Ud6jFto6e7FW5y0LxxwX8afpmTrvA0u-\n",
      "To: /home/noname/projects/hse_mlds_recsys_project/ML/test_transacrion_df.csv\n",
      "100%|██████████| 52.4M/52.4M [00:05<00:00, 10.5MB/s]\n"
     ]
    }
   ],
   "source": [
    "# Загрузка тестовых данных\n",
    "gdown.download(url=\"https://drive.google.com/uc?export=download&id=1Ud6jFto6e7FW5y0LxxwX8afpmTrvA0u-\",  \n",
    "               output=\"test_transacrion_df.csv\",\n",
    "               quiet=False)\n",
    "# Загрузка датафрейма с тестовыми данными\n",
    "test_df = pd.read_csv(\"test_transacrion_df.csv\", index_col=0)"
   ]
  },
  {
   "cell_type": "code",
   "execution_count": 3,
   "metadata": {},
   "outputs": [
    {
     "name": "stderr",
     "output_type": "stream",
     "text": [
      "Downloading...\n",
      "From: https://drive.google.com/uc?export=download&id=1eodl9OlaYy3NTu9TpbtPLHNurXxeHlhh\n",
      "To: /home/noname/projects/hse_mlds_recsys_project/ML/encoder.pkl\n",
      "100%|██████████| 800k/800k [00:00<00:00, 3.93MB/s]\n"
     ]
    }
   ],
   "source": [
    "# Загрузка кодировщика user_id\n",
    "gdown.download(url=\"https://drive.google.com/uc?export=download&id=1eodl9OlaYy3NTu9TpbtPLHNurXxeHlhh\",  \n",
    "               output=\"encoder.pkl\",\n",
    "               quiet=False)\n",
    "# Загрузка кодировщика\n",
    "with open(\"encoder.pkl\", \"rb\") as f:\n",
    "    encoder = pickle.load(f)"
   ]
  },
  {
   "cell_type": "code",
   "execution_count": 4,
   "metadata": {},
   "outputs": [
    {
     "name": "stderr",
     "output_type": "stream",
     "text": [
      "Downloading...\n",
      "From (uriginal): https://drive.google.com/uc?export=download&id=1epGrpzB8BEC2t5Od3hrL3x07B1VZIm3c\n",
      "From (redirected): https://drive.google.com/uc?export=download&id=1epGrpzB8BEC2t5Od3hrL3x07B1VZIm3c&confirm=t&uuid=2482ca56-dd86-4d59-84df-f8fb6eabc502\n",
      "To: /home/noname/projects/hse_mlds_recsys_project/ML/ratings.csv\n",
      "100%|██████████| 211M/211M [00:18<00:00, 11.3MB/s] \n"
     ]
    }
   ],
   "source": [
    "# Загрузка датафрейма с рейтингами\n",
    "gdown.download(url=\"https://drive.google.com/uc?export=download&id=1epGrpzB8BEC2t5Od3hrL3x07B1VZIm3c\",  \n",
    "               output=\"ratings.csv\",\n",
    "               quiet=False)\n",
    "rating_df = pd.read_csv(\"ratings.csv\", index_col=0)"
   ]
  },
  {
   "cell_type": "code",
   "execution_count": 5,
   "metadata": {},
   "outputs": [],
   "source": [
    "# Перекодировка пользователей\n",
    "init_test_df = test_df.copy()\n",
    "test_df['user_id'] = encoder.transform(test_df['user_id'])\n",
    "test_df = test_df[['user_id', 'product_id']].drop_duplicates()\n",
    "test_df['rating'] = 1\n",
    "rating_df['user_id'] = encoder.transform(rating_df['user_id'])"
   ]
  },
  {
   "cell_type": "code",
   "execution_count": 6,
   "metadata": {},
   "outputs": [],
   "source": [
    "# Приведение типов к менее тяжеловесным\n",
    "rating_df[\"user_id\"] = pd.to_numeric(rating_df[\"user_id\"], downcast=\"integer\")\n",
    "rating_df[\"product_id\"] = pd.to_numeric(rating_df[\"product_id\"], downcast=\"integer\")\n",
    "rating_df[\"rating\"] = pd.to_numeric(rating_df[\"rating\"], downcast=\"integer\")\n",
    "test_df[\"user_id\"] = pd.to_numeric(test_df[\"user_id\"], downcast=\"integer\")\n",
    "test_df[\"product_id\"] = pd.to_numeric(test_df[\"product_id\"], downcast=\"integer\")\n",
    "test_df[\"rating\"] = pd.to_numeric(test_df[\"rating\"], downcast=\"integer\")"
   ]
  },
  {
   "cell_type": "code",
   "execution_count": 7,
   "metadata": {},
   "outputs": [],
   "source": [
    "def make_sparse(dataset: pd.DataFrame) -> sps.coo_matrix:\n",
    "    row = dataset[\"user_id\"].to_numpy()\n",
    "    col = dataset[\"product_id\"].to_numpy()\n",
    "    data = dataset[\"rating\"].to_numpy()\n",
    "    return sps.coo_matrix((data, (row, col)))"
   ]
  },
  {
   "cell_type": "code",
   "execution_count": 8,
   "metadata": {},
   "outputs": [],
   "source": [
    "train_sparse = make_sparse(dataset=rating_df)\n",
    "test_sparse = make_sparse(dataset=test_df)"
   ]
  },
  {
   "attachments": {},
   "cell_type": "markdown",
   "metadata": {},
   "source": [
    "## Метрика качества"
   ]
  },
  {
   "cell_type": "code",
   "execution_count": 9,
   "metadata": {},
   "outputs": [],
   "source": [
    "def mapk(model, test_interactions, k:int=10, num_threads:int=60):\n",
    "    p_at_k = precision_at_k(model=model, \n",
    "                            test_interactions=test_interactions,\n",
    "                            k=10, \n",
    "                            num_threads=60)\n",
    "    map_at_k = sum(p_at_k)/len(p_at_k)\n",
    "    return map_at_k"
   ]
  },
  {
   "cell_type": "markdown",
   "metadata": {},
   "source": [
    "## Модель"
   ]
  },
  {
   "cell_type": "code",
   "execution_count": 10,
   "metadata": {},
   "outputs": [],
   "source": [
    "class LFM():\n",
    "\n",
    "    def __init__(self, encoder, rating_df=None, model=None):\n",
    "        if model is None:\n",
    "            self.model = LightFM(no_components=10,\n",
    "                                loss='warp', \n",
    "                                random_state=42, \n",
    "                                learning_rate=0.01)\n",
    "        else:\n",
    "            self.model = model\n",
    "        self.encoder = encoder\n",
    "        self.rating_df = rating_df\n",
    "\n",
    "    def predict(self, users_to_recommend: list, k: int = 10):\n",
    "        \"\"\"\n",
    "            Параллельное вычисление рекомендаций для пользователей\n",
    "        \"\"\"\n",
    "        predictions = {}\n",
    "        for uid in users_to_recommend:\n",
    "            predictions[uid] = self.recommend(uid=uid, k=k)\n",
    "        return predictions\n",
    "\n",
    "    def cold_start(self):\n",
    "        \"\"\"\n",
    "            Функция холодного старта\n",
    "            возвращает популярные продукты по убываюнию\n",
    "        \"\"\"\n",
    "        if self.rating_df is None:\n",
    "            return None\n",
    "        return np.argsort(np.array(self.rating_df.groupby(\"product_id\")[\"rating\"].sum()))[::-1]\n",
    "\n",
    "\n",
    "    def recommend(self,uid: int, k: int):\n",
    "        \"\"\"\n",
    "            Расчет рекомендаций\n",
    "        \"\"\"\n",
    "        # Если ранее такого пользователя не было, то применяется холодный старт\n",
    "        try:\n",
    "            uid = self.encoder.transform(np.array([uid]))[0]\n",
    "        except:\n",
    "            return self.cold_start()[:k]\n",
    "        \n",
    "        items = sorted(self.rating_df['product_id'].unique())\n",
    "        scores = self.model.predict(user_ids=[uid]*len(items), \n",
    "                                    item_ids=items)\n",
    "        predict = np.array(items)[np.argsort(-scores)][:k]\n",
    "        return predict.tolist()\n",
    "        \n",
    "    def fit(self, train_sparse, epochs, rounds, num_threads=60):\n",
    "        for rounds in tqdm(range(rounds)): \n",
    "            self.model.fit_partial(train_sparse, \n",
    "                            sample_weight=train_sparse, \n",
    "                            epochs=epochs, \n",
    "                            num_threads=num_threads)\n"
   ]
  },
  {
   "cell_type": "code",
   "execution_count": 11,
   "metadata": {},
   "outputs": [],
   "source": [
    "# Инициализация\n",
    "model = LightFM(no_components=10, loss='warp', \n",
    "                random_state=42, learning_rate=0.01)\n",
    "\n",
    "lfm_model = LFM(encoder=encoder, rating_df=rating_df, model=model)"
   ]
  },
  {
   "cell_type": "code",
   "execution_count": 12,
   "metadata": {},
   "outputs": [
    {
     "name": "stderr",
     "output_type": "stream",
     "text": [
      "100%|██████████| 5/5 [00:29<00:00,  6.00s/it]\n"
     ]
    }
   ],
   "source": [
    "# Обучение\n",
    "lfm_model.fit(train_sparse=train_sparse, epochs=5, \n",
    "              rounds=5, num_threads=60)"
   ]
  },
  {
   "cell_type": "code",
   "execution_count": 13,
   "metadata": {},
   "outputs": [
    {
     "data": {
      "text/plain": [
       "0.08308500162132085"
      ]
     },
     "execution_count": 13,
     "metadata": {},
     "output_type": "execute_result"
    }
   ],
   "source": [
    "# MAP@k\n",
    "mapk(model=lfm_model.model, test_interactions=test_sparse, k=10)"
   ]
  },
  {
   "cell_type": "code",
   "execution_count": 14,
   "metadata": {},
   "outputs": [],
   "source": [
    "# Сохранение модели\n",
    "with open(\"../app/models/lfm_model.pkl\", \"wb\") as f:\n",
    "    pickle.dump(lfm_model.model, f)"
   ]
  },
  {
   "cell_type": "code",
   "execution_count": 15,
   "metadata": {},
   "outputs": [
    {
     "data": {
      "text/plain": [
       "{21903, 47766}"
      ]
     },
     "execution_count": 15,
     "metadata": {},
     "output_type": "execute_result"
    }
   ],
   "source": [
    "# Множество с рекоменлацией\n",
    "predict_set = set(lfm_model.recommend(uid=3, k=10))\n",
    "# Множество релевантных продуктов\n",
    "relevant_set = set(np.array(init_test_df[init_test_df[\"user_id\"] == 3][\"product_id\"]))\n",
    "# Пересечение\n",
    "relevant_set & predict_set "
   ]
  },
  {
   "cell_type": "code",
   "execution_count": 16,
   "metadata": {},
   "outputs": [
    {
     "data": {
      "text/plain": [
       "{1: [13176, 6184, 16797, 21137, 196, 12341, 43352, 13575, 8571, 39275],\n",
       " 3: [21137, 24852, 13176, 21903, 26209, 47209, 47626, 47766, 39275, 16797],\n",
       " 2917: [21137, 24852, 21903, 13176, 47209, 26209, 47766, 47626, 22935, 24964]}"
      ]
     },
     "execution_count": 16,
     "metadata": {},
     "output_type": "execute_result"
    }
   ],
   "source": [
    "# Предикт для списка пользователей\n",
    "lfm_model.predict(users_to_recommend=[1, 3, 2917], k=10)"
   ]
  }
 ],
 "metadata": {
  "kernelspec": {
   "display_name": "Python 3 (ipykernel)",
   "language": "python",
   "name": "python3"
  },
  "language_info": {
   "codemirror_mode": {
    "name": "ipython",
    "version": 3
   },
   "file_extension": ".py",
   "mimetype": "text/x-python",
   "name": "python",
   "nbconvert_exporter": "python",
   "pygments_lexer": "ipython3",
   "version": "3.10.12"
  }
 },
 "nbformat": 4,
 "nbformat_minor": 4
}

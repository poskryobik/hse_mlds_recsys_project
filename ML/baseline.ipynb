{
 "cells": [
  {
   "attachments": {},
   "cell_type": "markdown",
   "metadata": {},
   "source": [
    "# Baseline model"
   ]
  },
  {
   "cell_type": "code",
   "execution_count": 2,
   "metadata": {},
   "outputs": [],
   "source": [
    "import pandas as pd\n",
    "import numpy as np\n",
    "import gdown "
   ]
  },
  {
   "attachments": {},
   "cell_type": "markdown",
   "metadata": {},
   "source": [
    "## Загрузка данных"
   ]
  },
  {
   "cell_type": "code",
   "execution_count": 3,
   "metadata": {},
   "outputs": [
    {
     "name": "stderr",
     "output_type": "stream",
     "text": [
      "Downloading...\n",
      "From: https://drive.google.com/uc?export=download&id=1Ud6jFto6e7FW5y0LxxwX8afpmTrvA0u-\n",
      "To: /home/noname/projects/hse_mlds_recsys_project/ML/test_transacrion_df.csv\n",
      "100%|██████████| 52.4M/52.4M [00:06<00:00, 8.32MB/s]\n"
     ]
    }
   ],
   "source": [
    "# Загрузка тестовых данных\n",
    "gdown.download(url=\"https://drive.google.com/uc?export=download&id=1Ud6jFto6e7FW5y0LxxwX8afpmTrvA0u-\",  \n",
    "               output=\"test_transacrion_df.csv\",\n",
    "               quiet=False)\n",
    "# Загрузка датафрейма с тестовыми данными\n",
    "test_df = pd.read_csv(\"test_transacrion_df.csv\", index_col=0)\n"
   ]
  },
  {
   "cell_type": "code",
   "execution_count": 4,
   "metadata": {},
   "outputs": [
    {
     "name": "stderr",
     "output_type": "stream",
     "text": [
      "Downloading...\n",
      "From: https://drive.google.com/uc?export=download&id=1epGrpzB8BEC2t5Od3hrL3x07B1VZIm3c\n",
      "To: /home/noname/projects/hse_mlds_recsys_project/ML/ratings.csv\n",
      "100%|██████████| 211M/211M [00:20<00:00, 10.5MB/s] \n"
     ]
    }
   ],
   "source": [
    "# Загрузка датафрейма с рейтингами\n",
    "gdown.download(url=\"https://drive.google.com/uc?export=download&id=1epGrpzB8BEC2t5Od3hrL3x07B1VZIm3c\",  \n",
    "               output=\"ratings.csv\",\n",
    "               quiet=False)\n",
    "rating_df = pd.read_csv(\"ratings.csv\", index_col=0)"
   ]
  },
  {
   "attachments": {},
   "cell_type": "markdown",
   "metadata": {},
   "source": [
    "# Метрика качества"
   ]
  },
  {
   "cell_type": "code",
   "execution_count": 5,
   "metadata": {},
   "outputs": [],
   "source": [
    "def precision_at_k(relevant, predicted, k: int = 10):\n",
    "    \"\"\" \n",
    "        Функиця расчета Precision@k\n",
    "        relevant - релевантные items для одного пользователя\n",
    "        predicted - рекомендованные items для одного пользователя\n",
    "    \"\"\"\n",
    "    return len(set(relevant[:k]) & set(predicted[:k]))/k \n",
    "\n",
    "def rel_item(relevant, predicted):\n",
    "    \"\"\"\n",
    "        Функция рассчитывает количество релевантных Item\n",
    "    \"\"\"\n",
    "    result = [0]*max(len(relevant), len(predicted))\n",
    "    items = min(len(relevant), len(predicted))\n",
    "    for i in range(items):\n",
    "        result[i] = int(relevant[i] == predicted[i])\n",
    "    return result  \n",
    "\n",
    "\n",
    "def ap_at_k(relevant, predicted, k: int = 10):\n",
    "    \"\"\" \n",
    "        Функция расчета AP@k\n",
    "        relevant - релевантные items для одного пользователя\n",
    "        predicted - рекомендованные items для одного пользователя\n",
    "    \"\"\"\n",
    "    y_i = rel_item(relevant=relevant, predicted=predicted)\n",
    "    p_at_i = [0]*k\n",
    "    iter_cnt = min(len(relevant), k)\n",
    "    for i in range(1, iter_cnt+1):\n",
    "        p_at_i[i-1] = precision_at_k(relevant=relevant, predicted=predicted, k=i)\n",
    "    return sum([y*p/k for y, p in zip(y_i, p_at_i)])\n",
    "\n",
    "def map_at_k(relevant, predicted, k: int = 10):\n",
    "    \"\"\" \n",
    "        Функция расчета MAP@k\n",
    "        relevant список по всем пользователям с их релевантными items\n",
    "        predicted список по всем пользователям с их рекомендованными items\n",
    "    \"\"\"\n",
    "    users = len(relevant)\n",
    "    sum_apk = 0\n",
    "    for user in range(users):\n",
    "        sum_apk += ap_at_k(relevant=relevant[user], predicted=predicted[user], k=k)\n",
    "    return sum_apk/users"
   ]
  },
  {
   "cell_type": "code",
   "execution_count": 6,
   "metadata": {},
   "outputs": [],
   "source": [
    "def nap_at_k(relevant, predicted, k: int = 10):\n",
    "    \"\"\" \n",
    "        Функция расчета normalize AP@k\n",
    "        relevant - релевантные items для одного пользователя\n",
    "        predicted - рекомендованные items для одного пользователя\n",
    "    \"\"\"\n",
    "    y_i = rel_item(relevant=relevant, predicted=predicted)\n",
    "    p_at_i = [0]*k\n",
    "    k = min(len(relevant), k)\n",
    "    for i in range(1, k+1):\n",
    "        p_at_i[i-1] = precision_at_k(relevant=relevant, predicted=predicted, k=i)\n",
    "    return sum([y*p/k for y, p in zip(y_i, p_at_i)])\n",
    "\n",
    "def mnap_at_k(relevant, predicted, k: int = 10):\n",
    "    \"\"\" \n",
    "        Функция расчета MAP@k\n",
    "        relevant список по всем пользователям с их релевантными items\n",
    "        predicted список по всем пользователям с их рекомендованными items\n",
    "    \"\"\"\n",
    "    users = len(relevant)\n",
    "    sum_napk = 0\n",
    "    for user in range(users):\n",
    "        sum_napk += nap_at_k(relevant=relevant[user], predicted=predicted[user], k=k)\n",
    "    return sum_napk/users"
   ]
  },
  {
   "cell_type": "code",
   "execution_count": 7,
   "metadata": {},
   "outputs": [],
   "source": [
    "def hitrate_at_k(relevant, predicted, k: int = 10):\n",
    "    \"\"\"\n",
    "        Функция расчета Hitrate@k\n",
    "        relevant список по всем пользователям с их релевантными items\n",
    "        predicted список по всем пользователям с их рекомендованными items\n",
    "    \"\"\"\n",
    "    \n",
    "    cnt_user = len(predicted) # Количество пользователей    \n",
    "    cnt_valid_user = 0\n",
    "    for user in range(cnt_user):\n",
    "        cnt_valid_user += int(len(set(relevant[user][:k]) & set(predicted[user][:k])) > 0) \n",
    "\n",
    "    return cnt_valid_user/cnt_user"
   ]
  },
  {
   "cell_type": "code",
   "execution_count": 8,
   "metadata": {},
   "outputs": [],
   "source": [
    "def ndsg_at_k(relevant, predicted, k: int = 10):\n",
    "    \"\"\"\n",
    "        Функция расчета nDSG@k\n",
    "        relevant - релевантные items для одного пользователя\n",
    "        predicted - рекомендованные items для одного пользователя\n",
    "    \"\"\"\n",
    "    idsg_at_k = sum([1/np.log2(k+1) for k in range(1, k+1)])\n",
    "    k = min(len(relevant), k)\n",
    "    dsg_at_k = 0\n",
    "    for k in range(1, k+1):\n",
    "        dsg_at_k += int(relevant[k-1] == predicted[k-1])/np.log2(k+1)\n",
    "    return dsg_at_k/idsg_at_k"
   ]
  },
  {
   "attachments": {},
   "cell_type": "markdown",
   "metadata": {},
   "source": [
    "\n",
    "## Baseline \n",
    "\n",
    "В качестве рекомендации модель возвращает k самых популярных товаров"
   ]
  },
  {
   "cell_type": "code",
   "execution_count": 9,
   "metadata": {},
   "outputs": [],
   "source": [
    "class Baseline():\n",
    "\n",
    "    def __init__(self, rating_df: pd.DataFrame):\n",
    "        self.rating = (rating_df\n",
    "            .groupby(\"product_id\", as_index=False)[\"rating\"]\n",
    "            .count()\n",
    "            .sort_values(by=\"rating\", ascending=False))\n",
    "\n",
    "    def predict(self, n_recomend: int, k: int = 10):\n",
    "        \"\"\"\n",
    "            Вычисление рекомендаций для n пользователей\n",
    "        \"\"\"\n",
    "        return [self.recommend(k=k)] * n_recomend\n",
    "\n",
    "    def recommend(self, k: int):\n",
    "        \"\"\"\n",
    "            Расчет рекомендаций\n",
    "        \"\"\"\n",
    "        return np.array(self.rating[\"product_id\"][:k])\n"
   ]
  },
  {
   "cell_type": "code",
   "execution_count": 10,
   "metadata": {},
   "outputs": [],
   "source": [
    "# Пользователи с их релевантными покупками\n",
    "relevant = (test_df.sort_values(by=[\"user_id\", \"add_to_cart_order\"])\n",
    "            .groupby(['user_id'])\n",
    "            .agg({'product_id': 'unique'})['product_id'].to_list())"
   ]
  },
  {
   "cell_type": "code",
   "execution_count": 11,
   "metadata": {},
   "outputs": [],
   "source": [
    "# Инициализация модели\n",
    "model = Baseline(rating_df=rating_df)\n",
    "# Рекомендации\n",
    "predict = model.predict(n_recomend=len(relevant), k=10)"
   ]
  },
  {
   "cell_type": "code",
   "execution_count": 13,
   "metadata": {},
   "outputs": [],
   "source": [
    "relevant = relevant[5000:7000]"
   ]
  },
  {
   "cell_type": "code",
   "execution_count": 15,
   "metadata": {},
   "outputs": [],
   "source": [
    "predict = predict[5000:7000]"
   ]
  },
  {
   "attachments": {},
   "cell_type": "markdown",
   "metadata": {},
   "source": [
    "Оценки качества Baseline модели"
   ]
  },
  {
   "cell_type": "code",
   "execution_count": 16,
   "metadata": {},
   "outputs": [],
   "source": [
    "metrics = {}\n",
    "metrics[\"MAP@k\"] = map_at_k(relevant=relevant, predicted=predict, k=10)\n",
    "metrics[\"MNAP@k\"] = mnap_at_k(relevant=relevant, predicted=predict, k=10)\n",
    "metrics[\"Hitrate@k\"] = hitrate_at_k(relevant=relevant, predicted=predict, k=10)\n",
    "sum_ndsg = 0\n",
    "sum_precision = 0\n",
    "for user in range(len(relevant)):\n",
    "    rel = relevant[user]\n",
    "    pred = predict[user]\n",
    "    sum_ndsg += ndsg_at_k(relevant=rel, predicted=pred, k=10)\n",
    "    sum_precision += precision_at_k(relevant=rel, predicted=pred, k=10)\n",
    "metrics[\"AVG_nDSG@k\"] = sum_ndsg/len(relevant)\n",
    "metrics[\"AVG_Precision@k\"] = sum_precision/len(relevant)"
   ]
  },
  {
   "cell_type": "code",
   "execution_count": 17,
   "metadata": {},
   "outputs": [
    {
     "data": {
      "text/plain": [
       "{'MAP@k': 0.005521349206349201,\n",
       " 'MNAP@k': 0.007864355158730154,\n",
       " 'Hitrate@k': 0.4375,\n",
       " 'AVG_nDSG@k': 0.013482733195953554,\n",
       " 'AVG_Precision@k': 0.061849999999999586}"
      ]
     },
     "execution_count": 17,
     "metadata": {},
     "output_type": "execute_result"
    }
   ],
   "source": [
    "metrics"
   ]
  },
  {
   "cell_type": "code",
   "execution_count": null,
   "metadata": {},
   "outputs": [],
   "source": []
  }
 ],
 "metadata": {
  "kernelspec": {
   "display_name": "Python 3 (ipykernel)",
   "language": "python",
   "name": "python3"
  },
  "language_info": {
   "codemirror_mode": {
    "name": "ipython",
    "version": 3
   },
   "file_extension": ".py",
   "mimetype": "text/x-python",
   "name": "python",
   "nbconvert_exporter": "python",
   "pygments_lexer": "ipython3",
   "version": "3.10.12"
  }
 },
 "nbformat": 4,
 "nbformat_minor": 4
}

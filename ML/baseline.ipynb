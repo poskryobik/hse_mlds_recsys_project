{
 "cells": [
  {
   "attachments": {},
   "cell_type": "markdown",
   "metadata": {},
   "source": [
    "# Baseline model"
   ]
  },
  {
   "cell_type": "code",
   "execution_count": 2,
   "metadata": {},
   "outputs": [],
   "source": [
    "import pandas as pd\n",
    "import numpy as np\n",
    "import gdown \n",
    "import seaborn as sns\n",
    "import matplotlib.pyplot as plt\n",
    "import scipy.sparse as sps\n",
    "import pickle\n",
    "from tqdm import tqdm\n",
    "from joblib import Parallel, delayed\n",
    "from scipy.sparse import hstack, vstack "
   ]
  },
  {
   "attachments": {},
   "cell_type": "markdown",
   "metadata": {},
   "source": [
    "## Загрузка данных"
   ]
  },
  {
   "cell_type": "code",
   "execution_count": 3,
   "metadata": {},
   "outputs": [],
   "source": [
    "# Загрузка тестовых данных\n",
    "gdown.download(url=\"https://drive.google.com/uc?export=download&id=1Ud6jFto6e7FW5y0LxxwX8afpmTrvA0u-\",  \n",
    "               output=\"test_transacrion_df.csv\",\n",
    "               quiet=False)\n",
    "# Загрузка датафрейма с тестовыми данными\n",
    "test_df = pd.read_csv(\"test_transacrion_df.csv\", index_col=0)"
   ]
  },
  {
   "cell_type": "code",
   "execution_count": 6,
   "metadata": {},
   "outputs": [],
   "source": [
    "# Загрузка датафрейма с рейтингами\n",
    "gdown.download(url=\"https://drive.google.com/uc?export=download&id=1epGrpzB8BEC2t5Od3hrL3x07B1VZIm3c\",  \n",
    "               output=\"ratings.csv\",\n",
    "               quiet=False)\n",
    "rating_df = pd.read_csv(\"ratings.csv\", index_col=0)"
   ]
  },
  {
   "attachments": {},
   "cell_type": "markdown",
   "metadata": {},
   "source": [
    "# Метрика качества"
   ]
  },
  {
   "cell_type": "code",
   "execution_count": 8,
   "metadata": {},
   "outputs": [],
   "source": [
    "def rel(r, p):\n",
    "    return list(pd.Series(p).isin(r))\n",
    "\n",
    "def mapk(relevant, predicted, k: int = 10):\n",
    "    N = len(predicted)\n",
    "    ru = np.array(list(map(rel, relevant, predicted))) # маска релевантных треков каждого польз-ля (k, N) \n",
    "    p_at_k = np.array([np.mean(ru[:,:i], axis=1) for i in range(1, k+1)]).T # Prescision at i для каждого user i = 1...k (N, k)\n",
    "    nu = np.array(list(map(len, relevant))) # кол-во релевантных товаров каждого пользователя (N, ) \n",
    "    min_nu_k = 1/np.where(nu > k, k, nu) # min(k, nu)^(-1) для каждого user (N, )\n",
    "    AP_at_k = np.sum(min_nu_k.reshape(N,1) * p_at_k * ru[:, :k], axis=1) # AP_at_k для каждого user (N, )\n",
    "    MAP_at_k = np.mean(AP_at_k)\n",
    "    \n",
    "    return MAP_at_k"
   ]
  },
  {
   "attachments": {},
   "cell_type": "markdown",
   "metadata": {},
   "source": [
    "\n",
    "## Baseline \n",
    "\n",
    "В качестве рекомендации модель возвращает k самых популярных товаров"
   ]
  },
  {
   "cell_type": "code",
   "execution_count": 58,
   "metadata": {},
   "outputs": [],
   "source": [
    "class Baseline():\n",
    "\n",
    "    def __init__(self, rating_df: pd.DataFrame):\n",
    "        self.rating = (rating_df\n",
    "            .groupby(\"product_id\", as_index=False)[\"rating\"]\n",
    "            .count()\n",
    "            .sort_values(by=\"rating\", ascending=False))\n",
    "\n",
    "    def predict(self, n_recomend: int, k: int = 10):\n",
    "        \"\"\"\n",
    "            Вычисление рекомендаций для n пользователей\n",
    "        \"\"\"\n",
    "        return [self.recommend(k=k)] * n_recomend\n",
    "\n",
    "    def recommend(self, k: int):\n",
    "        \"\"\"\n",
    "            Расчет рекомендаций\n",
    "        \"\"\"\n",
    "        return np.array(self.rating[\"product_id\"][:k])\n"
   ]
  },
  {
   "cell_type": "code",
   "execution_count": null,
   "metadata": {},
   "outputs": [],
   "source": [
    "# Пользователи с их релевантными покупками\n",
    "relevant = test_df.groupby(['user_id']).agg({'product_id': 'unique'})['product_id']"
   ]
  },
  {
   "cell_type": "code",
   "execution_count": 36,
   "metadata": {},
   "outputs": [],
   "source": [
    "# Инициализация модели\n",
    "model = Baseline(rating_df=rating_df)\n",
    "# Рекомендации\n",
    "predict = model.predict(n_recomend=len(relevant), k=10)"
   ]
  },
  {
   "cell_type": "code",
   "execution_count": 67,
   "metadata": {},
   "outputs": [],
   "source": [
    "# Оценка качества\n",
    "mapk(relevant=relevant.to_list(), predicted=predict, k=10)"
   ]
  }
 ],
 "metadata": {
  "kernelspec": {
   "display_name": "Python 3 (ipykernel)",
   "language": "python",
   "name": "python3"
  },
  "language_info": {
   "codemirror_mode": {
    "name": "ipython",
    "version": 3
   },
   "file_extension": ".py",
   "mimetype": "text/x-python",
   "name": "python",
   "nbconvert_exporter": "python",
   "pygments_lexer": "ipython3",
   "version": "3.10.13"
  }
 },
 "nbformat": 4,
 "nbformat_minor": 4
}

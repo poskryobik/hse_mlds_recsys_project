{
 "cells": [
  {
   "cell_type": "code",
   "execution_count": 2,
   "metadata": {},
   "outputs": [],
   "source": [
    "import pandas as pd\n",
    "import numpy as np\n",
    "import gdown \n",
    "import scipy.sparse as sps"
   ]
  },
  {
   "attachments": {},
   "cell_type": "markdown",
   "metadata": {},
   "source": [
    "## Загрузка данных"
   ]
  },
  {
   "cell_type": "code",
   "execution_count": 3,
   "metadata": {},
   "outputs": [
    {
     "name": "stderr",
     "output_type": "stream",
     "text": [
      "Downloading...\n",
      "From: https://drive.google.com/uc?export=download&id=1Ud6jFto6e7FW5y0LxxwX8afpmTrvA0u-\n",
      "To: c:\\code\\rec_sys\\hse_mlds_recsys_project\\ML\\test_transacrion_df.csv\n",
      "100%|██████████| 52.4M/52.4M [00:04<00:00, 12.5MB/s]\n"
     ]
    }
   ],
   "source": [
    "# Загрузка тестовых данных\n",
    "gdown.download(url=\"https://drive.google.com/uc?export=download&id=1Ud6jFto6e7FW5y0LxxwX8afpmTrvA0u-\",  \n",
    "               output=\"test_transacrion_df.csv\",\n",
    "               quiet=False)\n",
    "# Загрузка датафрейма с тестовыми данными\n",
    "test_df = pd.read_csv(\"test_transacrion_df.csv\", index_col=0)\n",
    "test_all_df = test_df.copy()"
   ]
  },
  {
   "cell_type": "code",
   "execution_count": 4,
   "metadata": {},
   "outputs": [
    {
     "name": "stderr",
     "output_type": "stream",
     "text": [
      "Downloading...\n",
      "From (original): https://drive.google.com/uc?export=download&id=1epGrpzB8BEC2t5Od3hrL3x07B1VZIm3c\n",
      "From (redirected): https://drive.google.com/uc?export=download&id=1epGrpzB8BEC2t5Od3hrL3x07B1VZIm3c&confirm=t&uuid=bd6e5346-37c6-425a-b624-2c28dbe7b3f9\n",
      "To: c:\\code\\rec_sys\\hse_mlds_recsys_project\\ML\\ratings.csv\n",
      "100%|██████████| 211M/211M [00:07<00:00, 26.5MB/s] \n"
     ]
    }
   ],
   "source": [
    "# Загрузка датафрейма с рейтингами\n",
    "gdown.download(url=\"https://drive.google.com/uc?export=download&id=1epGrpzB8BEC2t5Od3hrL3x07B1VZIm3c\",  \n",
    "               output=\"ratings.csv\",\n",
    "               quiet=False)\n",
    "rating_df = pd.read_csv(\"ratings.csv\", index_col=0)"
   ]
  },
  {
   "cell_type": "code",
   "execution_count": 5,
   "metadata": {},
   "outputs": [],
   "source": [
    "# Оставляем только продукты которые встречались больше N раз\n",
    "N = 15\n",
    "top_product = np.array(rating_df.groupby(['product_id'], as_index=False)['rating']\n",
    "                    .count().query(f'rating > {N}')['product_id'])\n",
    "rating_df = rating_df[rating_df['product_id'].isin(top_product)]"
   ]
  },
  {
   "cell_type": "code",
   "execution_count": 6,
   "metadata": {},
   "outputs": [],
   "source": [
    "# Кодировщик пользователей\n",
    "user2id = {k:v for v, k in enumerate(rating_df[\"user_id\"].unique())}\n",
    "id2user = {k:v for v, k in user2id.items()}\n",
    "\n",
    "rating_df['user_id'] = rating_df[\"user_id\"].apply(lambda x: user2id[x])\n",
    "test_all_df['item_id'] = test_all_df[\"user_id\"].apply(lambda x: user2id.get(x, 999999))"
   ]
  },
  {
   "cell_type": "code",
   "execution_count": 7,
   "metadata": {},
   "outputs": [],
   "source": [
    "# Приведение типов к менее тяжеловесным\n",
    "rating_df[\"user_id\"] = pd.to_numeric(rating_df[\"user_id\"], downcast=\"integer\")\n",
    "rating_df[\"product_id\"] = pd.to_numeric(rating_df[\"product_id\"], downcast=\"integer\")\n",
    "rating_df[\"rating\"] = pd.to_numeric(rating_df[\"rating\"], downcast=\"integer\")"
   ]
  },
  {
   "cell_type": "code",
   "execution_count": 8,
   "metadata": {},
   "outputs": [],
   "source": [
    "# Кодировка items\n",
    "item2id = {k:v for v, k in enumerate(sorted(rating_df['product_id'].unique()))}\n",
    "id2item = {k:v for v, k in item2id.items()}\n",
    "rating_df['product_id'] = rating_df['product_id'].apply(lambda x: item2id[x])\n",
    "test_all_df['product_id'] = test_all_df['product_id'].apply(lambda x: item2id.get(x, -1))"
   ]
  },
  {
   "cell_type": "code",
   "execution_count": 9,
   "metadata": {},
   "outputs": [],
   "source": [
    "# Удаление повторяющихся покупок в тесте\n",
    "test_all_df = test_all_df.drop_duplicates(subset=['user_id', 'product_id'], keep='first')"
   ]
  },
  {
   "cell_type": "code",
   "execution_count": 10,
   "metadata": {},
   "outputs": [],
   "source": [
    "def make_sparse(dataset: pd.DataFrame) -> sps.coo_matrix:\n",
    "    row = dataset[\"user_id\"].to_numpy()\n",
    "    col = dataset[\"product_id\"].to_numpy()\n",
    "    data = dataset[\"rating\"].to_numpy()\n",
    "    return sps.coo_matrix((data, (row, col)))"
   ]
  },
  {
   "attachments": {},
   "cell_type": "markdown",
   "metadata": {},
   "source": [
    "## Метрика качества"
   ]
  },
  {
   "cell_type": "code",
   "execution_count": 11,
   "metadata": {},
   "outputs": [],
   "source": [
    "def precision_at_k(relevant, predicted, k: int = 10):\n",
    "    \"\"\" \n",
    "        Функиця расчета Precision@k\n",
    "        relevant - релевантные items для одного пользователя\n",
    "        predicted - рекомендованные items для одного пользователя\n",
    "    \"\"\"\n",
    "    return len(set(relevant[:k]) & set(predicted[:k]))/k \n",
    "\n",
    "def rel_item(relevant, predicted):\n",
    "    \"\"\"\n",
    "        Функция рассчитывает количество релевантных Item\n",
    "    \"\"\"\n",
    "    result = [0]*max(len(relevant), len(predicted))\n",
    "    items = min(len(relevant), len(predicted))\n",
    "    for i in range(items):\n",
    "        result[i] = int(relevant[i] == predicted[i])\n",
    "    return result  \n",
    "\n",
    "\n",
    "def ap_at_k(relevant, predicted, k: int = 10):\n",
    "    \"\"\" \n",
    "        Функция расчета AP@k\n",
    "        relevant - релевантные items для одного пользователя\n",
    "        predicted - рекомендованные items для одного пользователя\n",
    "    \"\"\"\n",
    "    y_i = rel_item(relevant=relevant, predicted=predicted)\n",
    "    p_at_i = [0]*k\n",
    "    iter_cnt = min(len(relevant), k)\n",
    "    for i in range(1, iter_cnt+1):\n",
    "        p_at_i[i-1] = precision_at_k(relevant=relevant, predicted=predicted, k=i)\n",
    "    return sum([y*p/k for y, p in zip(y_i, p_at_i)])\n",
    "\n",
    "def map_at_k(relevant, predicted, k: int = 10):\n",
    "    \"\"\" \n",
    "        Функция расчета MAP@k\n",
    "        relevant список по всем пользователям с их релевантными items\n",
    "        predicted список по всем пользователям с их рекомендованными items\n",
    "    \"\"\"\n",
    "    users = len(relevant)\n",
    "    sum_apk = 0\n",
    "    for user in range(users):\n",
    "        sum_apk += ap_at_k(relevant=relevant[user], predicted=predicted[user], k=k)\n",
    "    return sum_apk/users\n",
    "\n",
    "\n",
    "def nap_at_k(relevant, predicted, k: int = 10):\n",
    "    \"\"\" \n",
    "        Функция расчета normalize AP@k\n",
    "        relevant - релевантные items для одного пользователя\n",
    "        predicted - рекомендованные items для одного пользователя\n",
    "    \"\"\"\n",
    "    y_i = rel_item(relevant=relevant, predicted=predicted)\n",
    "    p_at_i = [0]*k\n",
    "    k = min(len(relevant), k)\n",
    "    for i in range(1, k+1):\n",
    "        p_at_i[i-1] = precision_at_k(relevant=relevant, predicted=predicted, k=i)\n",
    "    return sum([y*p/k for y, p in zip(y_i, p_at_i)])\n",
    "\n",
    "def mnap_at_k(relevant, predicted, k: int = 10):\n",
    "    \"\"\" \n",
    "        Функция расчета MAP@k\n",
    "        relevant список по всем пользователям с их релевантными items\n",
    "        predicted список по всем пользователям с их рекомендованными items\n",
    "    \"\"\"\n",
    "    users = len(relevant)\n",
    "    sum_napk = 0\n",
    "    for user in range(users):\n",
    "        sum_napk += nap_at_k(relevant=relevant[user], predicted=predicted[user], k=k)\n",
    "    return sum_napk/users\n",
    "\n",
    "\n",
    "def hitrate_at_k(relevant, predicted, k: int = 10):\n",
    "    \"\"\"\n",
    "        Функция расчета Hitrate@k\n",
    "        relevant список по всем пользователям с их релевантными items\n",
    "        predicted список по всем пользователям с их рекомендованными items\n",
    "    \"\"\"\n",
    "    \n",
    "    cnt_user = len(predicted) # Количество пользователей    \n",
    "    cnt_valid_user = 0\n",
    "    for user in range(cnt_user):\n",
    "        cnt_valid_user += int(len(set(relevant[user][:k]) & set(predicted[user][:k])) > 0) \n",
    "\n",
    "    return cnt_valid_user/cnt_user\n",
    "\n",
    "\n",
    "def ndsg_at_k(relevant, predicted, k: int = 10):\n",
    "    \"\"\"\n",
    "        Функция расчета nDSG@k\n",
    "        relevant - релевантные items для одного пользователя\n",
    "        predicted - рекомендованные items для одного пользователя\n",
    "    \"\"\"\n",
    "    idsg_at_k = sum([1/np.log2(k+1) for k in range(1, k+1)])\n",
    "    k = min(len(relevant), k)\n",
    "    dsg_at_k = 0\n",
    "    for k in range(1, k+1):\n",
    "        dsg_at_k += int(relevant[k-1] == predicted[k-1])/np.log2(k+1)\n",
    "    return dsg_at_k/idsg_at_k"
   ]
  },
  {
   "attachments": {},
   "cell_type": "markdown",
   "metadata": {},
   "source": [
    "## Модель"
   ]
  },
  {
   "cell_type": "code",
   "execution_count": 12,
   "metadata": {},
   "outputs": [
    {
     "data": {
      "text/plain": [
       "<99999x29454 sparse matrix of type '<class 'numpy.float64'>'\n",
       "\twith 9000952 stored elements in COOrdinate format>"
      ]
     },
     "execution_count": 12,
     "metadata": {},
     "output_type": "execute_result"
    }
   ],
   "source": [
    "matrix = sps.coo_matrix(\n",
    "    (np.ones(rating_df.shape[0]), (rating_df['user_id'], rating_df['product_id'])),\n",
    "    shape=(rating_df[\"user_id\"].nunique(), rating_df[\"product_id\"].nunique()),\n",
    ")\n",
    "matrix"
   ]
  },
  {
   "cell_type": "code",
   "execution_count": 13,
   "metadata": {},
   "outputs": [],
   "source": [
    "class EASE():\n",
    "\n",
    "    def __init__(self, encoder, rating_df=None, model=None):\n",
    "        if model is not None:\n",
    "            self.model = model \n",
    "        self.encoder = encoder\n",
    "        self.rating_df = rating_df\n",
    "\n",
    "    def predict(self, users_to_recommend: list, k: int = 10, n_jobs: int = 2):\n",
    "        \"\"\"\n",
    "            Параллельное вычисление рекомендаций для пользователей\n",
    "        \"\"\"\n",
    "        predictions = {}\n",
    "        for uid in users_to_recommend:\n",
    "            predictions[uid] = self.recommend(uid=uid, k=k)\n",
    "        return predictions\n",
    "\n",
    "    def cold_start(self):\n",
    "        \"\"\"\n",
    "            Функция холодного старта\n",
    "            возвращает популярные продукты по убываюнию\n",
    "        \"\"\"\n",
    "        if self.rating_df is None:\n",
    "            return None\n",
    "        return np.argsort(np.array(self.rating_df.groupby(\"product_id\")[\"rating\"].sum()))[::-1]\n",
    "\n",
    "\n",
    "    def recommend(self, uid: int, k: int):\n",
    "        \"\"\"\n",
    "            Рекомендации \n",
    "        \"\"\"\n",
    "        uid = self.encoder.get(uid, -1)\n",
    "        if uid == -1:\n",
    "            return self.cold_start()[:k]\n",
    "         \n",
    "        # Покупки пользователя\n",
    "        interact = self.rating_df[self.rating_df['user_id'] == uid]['product_id'].to_list()\n",
    "        # Составляем вектор интеракций человека\n",
    "        vector = np.zeros(len(item2id))\n",
    "        vector[interact] = 1\n",
    "        vector = sps.csr_matrix(vector)\n",
    "        preds = np.array(vector.dot(self.model))[0]\n",
    "        ranks = np.argsort(-preds)\n",
    "        return list(ranks[:k])\n",
    "         \n",
    "\n",
    "    def fit(self, X, reg_weight=100):\n",
    "        \"\"\"\n",
    "            Обучаем конечную модель \n",
    "        \"\"\"\n",
    "        # gram matrix\n",
    "        G = X.T @ X\n",
    "        G += reg_weight * sps.identity(G.shape[0]).astype(np.float32)\n",
    "        # convert to dense because inverse will be dense\n",
    "        G = G.todense()\n",
    "        # invert. this takes most of the time\n",
    "        P = np.linalg.inv(G)\n",
    "        self.model = P / (-np.diag(P))\n",
    "        # zero out diag\n",
    "        np.fill_diagonal(self.model, 0.)\n"
   ]
  },
  {
   "cell_type": "code",
   "execution_count": 14,
   "metadata": {},
   "outputs": [
    {
     "name": "stdout",
     "output_type": "stream",
     "text": [
      "CPU times: total: 1h 17min 6s\n",
      "Wall time: 12min 58s\n"
     ]
    }
   ],
   "source": [
    "%%time\n",
    "model = EASE(encoder=user2id, rating_df=rating_df)\n",
    "model.fit(matrix, reg_weight=10)"
   ]
  },
  {
   "cell_type": "code",
   "execution_count": 15,
   "metadata": {},
   "outputs": [
    {
     "name": "stdout",
     "output_type": "stream",
     "text": [
      "CPU times: total: 27min 28s\n",
      "Wall time: 3h 31min 51s\n"
     ]
    }
   ],
   "source": [
    "%%time\n",
    "# Предсказание по всем пользователям матрицы интеракций\n",
    "X = matrix.tocsc()\n",
    "ans = np.array(X.dot(model.model))"
   ]
  },
  {
   "cell_type": "code",
   "execution_count": 16,
   "metadata": {},
   "outputs": [
    {
     "name": "stdout",
     "output_type": "stream",
     "text": [
      "CPU times: total: 3min 32s\n",
      "Wall time: 8min 8s\n"
     ]
    }
   ],
   "source": [
    "%%time\n",
    "predict = []\n",
    "for i in range(X.shape[0]):\n",
    "    predict.append(np.argsort(-ans[i])[:10])"
   ]
  },
  {
   "cell_type": "code",
   "execution_count": 17,
   "metadata": {},
   "outputs": [],
   "source": [
    "# Пользователи с их релевантными покупками\n",
    "relevant = (test_all_df[test_all_df[\"user_id\"].isin(user2id.keys())].sort_values(by=[\"user_id\", \"add_to_cart_order\"])\n",
    "            .groupby(['user_id'])\n",
    "            .agg({'product_id': 'unique'})['product_id'].to_list())"
   ]
  },
  {
   "cell_type": "code",
   "execution_count": 18,
   "metadata": {},
   "outputs": [],
   "source": [
    "metrics = {}\n",
    "metrics[\"MAP@k\"] = map_at_k(relevant=relevant, predicted=predict, k=10)\n",
    "metrics[\"MNAP@k\"] = mnap_at_k(relevant=relevant, predicted=predict, k=10)\n",
    "metrics[\"Hitrate@k\"] = hitrate_at_k(relevant=relevant, predicted=predict, k=10)\n",
    "sum_ndsg = 0\n",
    "sum_precision = 0\n",
    "for user in range(len(relevant)):\n",
    "    rel = relevant[user]\n",
    "    pred = predict[user]\n",
    "    sum_ndsg += ndsg_at_k(relevant=rel, predicted=pred, k=10)\n",
    "    sum_precision += precision_at_k(relevant=rel, predicted=pred, k=10)\n",
    "metrics[\"AVG_nDSG@k\"] = sum_ndsg/len(relevant)\n",
    "metrics[\"AVG_Precision@k\"] = sum_precision/len(relevant)"
   ]
  },
  {
   "cell_type": "code",
   "execution_count": 19,
   "metadata": {},
   "outputs": [
    {
     "data": {
      "text/plain": [
       "{'MAP@k': 0.007326797871153362,\n",
       " 'MNAP@k': 0.011928211155064022,\n",
       " 'Hitrate@k': 0.6323363233632336,\n",
       " 'AVG_nDSG@k': 0.01797114979938221,\n",
       " 'AVG_Precision@k': 0.10981009810105222}"
      ]
     },
     "execution_count": 19,
     "metadata": {},
     "output_type": "execute_result"
    }
   ],
   "source": [
    "metrics"
   ]
  }
 ],
 "metadata": {
  "kernelspec": {
   "display_name": "Python 3 (ipykernel)",
   "language": "python",
   "name": "python3"
  },
  "language_info": {
   "codemirror_mode": {
    "name": "ipython",
    "version": 3
   },
   "file_extension": ".py",
   "mimetype": "text/x-python",
   "name": "python",
   "nbconvert_exporter": "python",
   "pygments_lexer": "ipython3",
   "version": "3.10.13"
  }
 },
 "nbformat": 4,
 "nbformat_minor": 4
}
